{
 "cells": [
  {
   "cell_type": "code",
   "execution_count": 1,
   "metadata": {},
   "outputs": [
    {
     "name": "stdout",
     "output_type": "stream",
     "text": [
      "Tamanho da Matriz: 26\n",
      "['b0001', 'b0002', 'b0003', 'b0004', 'b0005', 'b0006', 'b0007', 'b0008', 'b0009', 'b0010', 'b0011', 'b0012', 'b0013', 'b0014', 'b0015', 'b0016', 'b0017', 'b0018', 'b0019', 'b0020', 'b5001', 'b5002', 'b5003', 'b5004', 'b5005', 'b5006']\n"
     ]
    }
   ],
   "source": [
    "import pandas as pd\n",
    "from datetime import datetime\n",
    "\n",
    "def converter_para_valor_absoluto(data_horario_str):\n",
    "    # Converter a string para um objeto datetime\n",
    "    data_horario = datetime.strptime(data_horario_str, '%Y-%m-%dT%H:%M:%SZ')\n",
    "    \n",
    "    # Converter o objeto datetime para um valor absoluto\n",
    "    valor_absoluto = data_horario.timestamp()\n",
    "    \n",
    "    return valor_absoluto\n",
    "\n",
    "\n",
    "\n",
    "# Ler a planilha do Excel\n",
    "caminho_do_arquivo_excel = 'ds_27_plans.xlsx'   #'caminho/para/o/arquivo.xlsx'\n",
    "nome_da_planilha = 'services'  # Nome da planilha que você deseja ler\n",
    "#coluna_para_convert = 'startDatetime'  # Nome da coluna que você deseja converter em matriz\n",
    "#coluna_para_convert = 'endDatetime' \n",
    "#coluna_para_convert = 'endLocation'\n",
    "coluna_para_convert = 'id'\n",
    "\n",
    "# Carregar o arquivo Excel em um DataFrame do pandas\n",
    "dados_excel = pd.read_excel(caminho_do_arquivo_excel, sheet_name=nome_da_planilha)\n",
    "\n",
    "# Extrair os dados da coluna desejada e convertê-los em uma matriz\n",
    "aux = dados_excel[coluna_para_convert].values\n",
    "\n",
    "matriz = []\n",
    "for item in aux:\n",
    "    valor_absoluto = item.lower()\n",
    "    matriz.append(valor_absoluto)   \n",
    "\n",
    "\n",
    "# Imprimir a matriz resultante\n",
    "print(\"Tamanho da Matriz:\", len(matriz))\n",
    "print(matriz)"
   ]
  },
  {
   "cell_type": "code",
   "execution_count": 3,
   "metadata": {},
   "outputs": [
    {
     "name": "stdout",
     "output_type": "stream",
     "text": [
      "[('b0001', 'dro', 1672545600, 'bno', 1672560000, 'ldual'), ('b0002', 'bno', 1672599660, 'dro', 1672624800, 'ldual'), ('b0003', 'dro', 1672718400, 'bno', 1672732800, 'ldual'), ('b0004', 'bno', 1672772460, 'dro', 1672797600, 'ldual'), ('b0005', 'dro', 1672891200, 'bno', 1672905600, 'ldual'), ('b0006', 'bno', 1672945200, 'dro', 1672970400, 'ldual'), ('b0007', 'dnm', 1672696800, 'wm e', 1672736400, 'mdiesel'), ('b0008', 'wm e', 1672783200, 'dnm', 1672822800, 'mdiesel'), ('b0009', 'dnm', 1672869600, 'wm e', 1672909200, 'mdiesel'), ('b0010', 'wm e', 1672956000, 'dnm', 1672995600, 'mdiesel'), ('b0011', 'dnm', 1673042400, 'wm e', 1673082000, 'mdiesel'), ('b0012', 'wm e', 1673128800, 'dnm', 1673168400, 'mdiesel'), ('b0013', 'bwur', 1672567200, 'lmof', 1672570800, 'sdiesel'), ('b0014', 'lmof', 1672592400, 'bwur', 1672596000, 'sdiesel'), ('b0015', 'bwur', 1672740000, 'lmof', 1672743600, 'sdiesel'), ('b0016', 'lmof', 1672765200, 'bwur', 1672768800, 'sdiesel'), ('b0017', 'bwur', 1672912800, 'lmof', 1672916400, 'sdiesel'), ('b0018', 'lmof', 1672938000, 'bwur', 1672941600, 'sdiesel'), ('b0019', 'bwur', 1672837200, 'egbk', 1672873200, 'meloco'), ('b0020', 'egbk', 1672930800, 'bwur', 1672966800, 'meloco'), ('b5001', 'dro', 1672491600, 'dro', 1672520400, 'ldual'), ('b5002', 'bno', 1672563600, 'bno', 1672599600, 'ldual'), ('b5003', 'dro', 1672657200, 'dro', 1672686000, 'ldual'), ('b5004', 'bno', 1672732860, 'bno', 1672772400, 'ldual'), ('b5005', 'dro', 1672837200, 'dro', 1672855200, 'ldual'), ('b5006', 'bno', 1672855201, 'bno', 1672866000, 'ldual')]\n"
     ]
    },
    {
     "name": "stderr",
     "output_type": "stream",
     "text": [
      "/tmp/ipykernel_11328/2470705202.py:26: DeprecationWarning: In a future version, `df.iloc[:, i] = newvals` will attempt to set the values inplace instead of always setting a new array. To retain the old behavior, use either `df[df.columns[i]] = newvals` or, if columns are non-unique, `df.isetitem(i, newvals)`\n",
      "  df.iloc[:, 2] = df.iloc[:, 2].apply(converter_para_valor_absoluto)\n",
      "/tmp/ipykernel_11328/2470705202.py:27: DeprecationWarning: In a future version, `df.iloc[:, i] = newvals` will attempt to set the values inplace instead of always setting a new array. To retain the old behavior, use either `df[df.columns[i]] = newvals` or, if columns are non-unique, `df.isetitem(i, newvals)`\n",
      "  df.iloc[:, 4] = df.iloc[:, 4].apply(converter_para_valor_absoluto)\n"
     ]
    }
   ],
   "source": [
    "#import pandas as pd\n",
    "from datetime import datetime\n",
    "# li a planilha SERVICES\n",
    "\n",
    "def converter_para_valor_absoluto(data_horario_str):\n",
    "    # Converter a string para um objeto datetime\n",
    "    data_horario = datetime.strptime(data_horario_str, '%Y-%m-%dT%H:%M:%SZ')\n",
    "    \n",
    "     # Converter o objeto datetime para um valor absoluto do tipo inteiro\n",
    "    valor_absoluto = int(data_horario.timestamp())\n",
    "        \n",
    "    return valor_absoluto\n",
    "\n",
    "def ler_planilha(caminho_arquivo,nome_da_planilha):\n",
    "    # Carregar a planilha Excel em um DataFrame do pandas\n",
    "\n",
    "    #df = pd.read_excel(caminho_arquivo, sheet_name=nome_da_planilha, header=None, engine='openpyxl')\n",
    "    df = pd.read_excel(caminho_arquivo, sheet_name=nome_da_planilha)\n",
    "    # Garantir que todas as células alfa-numéricas estejam em minúsculo\n",
    "    df = df.applymap(lambda x: x.lower() if isinstance(x, str) else x)\n",
    "    \n",
    "    # Pegar as primeiras 5 colunas e as próximas 100 linhas\n",
    "    df = df.iloc[:27, :6]\n",
    "    \n",
    "    # Converter as datas e horários nas colunas 3 e 5 para valores absolutos\n",
    "    df.iloc[:, 2] = df.iloc[:, 2].apply(converter_para_valor_absoluto)\n",
    "    df.iloc[:, 4] = df.iloc[:, 4].apply(converter_para_valor_absoluto)\n",
    "    \n",
    "    # Converter as linhas do DataFrame em uma lista de tuplas\n",
    "    lista_de_tuplas = [tuple(row) for row in df.values]\n",
    "    \n",
    "    return lista_de_tuplas\n",
    "\n",
    "if __name__ == \"__main__\":\n",
    "\t# Exemplo de uso\n",
    "\tcaminho_arquivo = 'ds_27_plans.xlsx'\n",
    "\tnome_da_planilha = 'services' # nomes \n",
    "\n",
    "\tlista_de_tuplas = ler_planilha(caminho_arquivo , nome_da_planilha)\n",
    "\tprint(lista_de_tuplas)\n"
   ]
  },
  {
   "cell_type": "code",
   "execution_count": null,
   "metadata": {},
   "outputs": [],
   "source": []
  }
 ],
 "metadata": {
  "kernelspec": {
   "display_name": "Python 3",
   "language": "python",
   "name": "python3"
  },
  "language_info": {
   "codemirror_mode": {
    "name": "ipython",
    "version": 3
   },
   "file_extension": ".py",
   "mimetype": "text/x-python",
   "name": "python",
   "nbconvert_exporter": "python",
   "pygments_lexer": "ipython3",
   "version": "3.11.2"
  }
 },
 "nbformat": 4,
 "nbformat_minor": 2
}
