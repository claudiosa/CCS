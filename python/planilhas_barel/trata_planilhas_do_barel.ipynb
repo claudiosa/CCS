{
 "cells": [
  {
   "cell_type": "code",
   "execution_count": 3,
   "metadata": {},
   "outputs": [
    {
     "name": "stdout",
     "output_type": "stream",
     "text": [
      "            0\n",
      "0    00:01:49\n",
      "2    00:00:13\n",
      "4    00:01:47\n",
      "6    00:00:12\n",
      "8    00:01:44\n",
      "..        ...\n",
      "234  00:01:39\n",
      "236  00:00:01\n",
      "238  00:00:02\n",
      "240  00:01:42\n",
      "242  00:00:00\n",
      "\n",
      "[122 rows x 1 columns]\n",
      "Total de elementos não vazios na planilha: 122\n"
     ]
    }
   ],
   "source": [
    "import pandas as pd\n",
    "\n",
    "# Função para ler e limpar a planilha\n",
    "def ler_e_limpar_planilha(arquivo_ods):\n",
    "    # Ler a planilha .ods\n",
    "    planilha = pd.read_excel(arquivo_ods, engine='odf', header=None)\n",
    "    # Remover linhas em branco (considerando qualquer coluna)\n",
    "    planilha_limpa = planilha.dropna(how='all')\n",
    "    return planilha_limpa\n",
    "\n",
    "# Caminho para o arquivo .ods\n",
    "arquivo_ods = 'temp.ods'\n",
    "\n",
    "# Limpar a planilha\n",
    "planilha_limpa = ler_e_limpar_planilha(arquivo_ods)\n",
    "\n",
    "# Exibir a planilha limpa\n",
    "print(planilha_limpa)\n",
    "\n",
    "num_elementos = planilha_limpa.count().sum()\n",
    "print(f\"Total de elementos não vazios na planilha: {num_elementos}\")"
   ]
  },
  {
   "cell_type": "code",
   "execution_count": 4,
   "metadata": {},
   "outputs": [
    {
     "name": "stdout",
     "output_type": "stream",
     "text": [
      "            0\n",
      "0    00:01:49\n",
      "4    00:01:47\n",
      "8    00:01:44\n",
      "12   00:01:45\n",
      "16   00:01:45\n",
      "..        ...\n",
      "222  00:01:40\n",
      "226  00:01:42\n",
      "230  00:01:43\n",
      "234  00:01:39\n",
      "240  00:01:42\n",
      "\n",
      "[61 rows x 1 columns]\n",
      "Total de elementos não vazios na planilha: 61\n"
     ]
    }
   ],
   "source": [
    "def filtrar_tempos_superiores_a_55_segundos(planilha_limpa):\n",
    "    # Converter a coluna 0 (assumindo que é a primeira coluna) para string\n",
    "    planilha_limpa[0] = planilha_limpa[0].astype(str)\n",
    "    \n",
    "    # Filtrar linhas com tempos superiores a \"00:00:55\"\n",
    "    planilha_filtrada = planilha_limpa[planilha_limpa[0] > \"00:00:55\"]\n",
    "    return planilha_filtrada\n",
    "\n",
    "planilha_filtrada = filtrar_tempos_superiores_a_55_segundos(planilha_limpa)\n",
    "print(planilha_filtrada)\n",
    "num_elementos = planilha_filtrada.count().sum()\n",
    "print(f\"Total de elementos não vazios na planilha: {num_elementos}\")"
   ]
  },
  {
   "cell_type": "code",
   "execution_count": 5,
   "metadata": {},
   "outputs": [],
   "source": [
    "# Salvar a planilha filtrada em um novo arquivo .xlsx\n",
    "planilha_filtrada.to_excel('planilha_OK.xlsx', index=False, header=False)"
   ]
  },
  {
   "cell_type": "code",
   "execution_count": 6,
   "metadata": {},
   "outputs": [
    {
     "name": "stdout",
     "output_type": "stream",
     "text": [
      "         0\n",
      "0    00:01\n",
      "4    00:01\n",
      "8    00:01\n",
      "12   00:01\n",
      "16   00:01\n",
      "..     ...\n",
      "222  00:01\n",
      "226  00:01\n",
      "230  00:01\n",
      "234  00:01\n",
      "240  00:01\n",
      "\n",
      "[61 rows x 1 columns]\n"
     ]
    }
   ],
   "source": [
    "# Função para remover o campo de horas e manter apenas MM:SS\n",
    "def remover_campo_de_horas(planilha_filtrada):\n",
    "    def formatar_tempo(tempo):\n",
    "        # Assumir que o tempo está no formato HH:MM:SS e retornar MM:SS\n",
    "        partes = tempo.split(':')\n",
    "        return f\"{partes[0]}:{partes[1]}\"\n",
    "    \n",
    "    # Criar uma cópia da planilha filtrada para evitar SettingWithCopyWarning\n",
    "    planilha_copia = planilha_filtrada.copy()\n",
    "    \n",
    "    # Aplicar a função na cópia\n",
    "    planilha_copia[0] = planilha_copia[0].apply(formatar_tempo)\n",
    "    \n",
    "    return planilha_copia\n",
    "\n",
    "planilha_formatada = remover_campo_de_horas(planilha_filtrada)\n",
    "print(planilha_formatada)"
   ]
  },
  {
   "cell_type": "code",
   "execution_count": 7,
   "metadata": {},
   "outputs": [
    {
     "name": "stdout",
     "output_type": "stream",
     "text": [
      "     0      4      8      12     16     20     24     28     32     36   ...  \\\n",
      "0  00:01  00:01  00:01  00:01  00:01  00:01  00:01  00:01  00:01  00:01  ...   \n",
      "\n",
      "     204    206    210    214    218    222    226    230    234    240  \n",
      "0  00:01  00:01  00:01  00:01  00:01  00:01  00:01  00:01  00:01  00:01  \n",
      "\n",
      "[1 rows x 61 columns]\n"
     ]
    }
   ],
   "source": [
    "# Transpor a planilha filtrada\n",
    "planilha_transposta = planilha_formatada.transpose()\n",
    "\n",
    "# Exibir a planilha transposta\n",
    "print(planilha_transposta)\n",
    "\n",
    "# Salvar a planilha transposta em um novo arquivo .xlsx\n",
    "planilha_transposta.to_excel('planilha_transposta.xlsx', index=False, header=False)"
   ]
  },
  {
   "cell_type": "code",
   "execution_count": null,
   "metadata": {},
   "outputs": [],
   "source": []
  }
 ],
 "metadata": {
  "kernelspec": {
   "display_name": "Python 3",
   "language": "python",
   "name": "python3"
  },
  "language_info": {
   "codemirror_mode": {
    "name": "ipython",
    "version": 3
   },
   "file_extension": ".py",
   "mimetype": "text/x-python",
   "name": "python",
   "nbconvert_exporter": "python",
   "pygments_lexer": "ipython3",
   "version": "3.11.2"
  }
 },
 "nbformat": 4,
 "nbformat_minor": 2
}
