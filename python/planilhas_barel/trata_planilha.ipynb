{
 "cells": [
  {
   "cell_type": "code",
   "execution_count": 1,
   "metadata": {},
   "outputs": [
    {
     "name": "stdout",
     "output_type": "stream",
     "text": [
      "            0\n",
      "0    00:01:49\n",
      "2    00:00:13\n",
      "4    00:01:47\n",
      "6    00:00:12\n",
      "8    00:01:44\n",
      "..        ...\n",
      "234  00:01:39\n",
      "236  00:00:01\n",
      "238  00:00:02\n",
      "240  00:01:42\n",
      "242  00:00:00\n",
      "\n",
      "[122 rows x 1 columns]\n",
      "Total de elementos não vazios na planilha: 122\n"
     ]
    }
   ],
   "source": [
    "import pandas as pd\n",
    "\n",
    "# Função para ler e limpar a planilha\n",
    "def ler_e_limpar_planilha(arquivo_ods):\n",
    "    # Ler a planilha .ods\n",
    "    planilha = pd.read_excel(arquivo_ods, engine='odf', header=None)\n",
    "    # Remover linhas em branco (considerando qualquer coluna)\n",
    "    planilha_limpa = planilha.dropna(how='all')\n",
    "    return planilha_limpa\n",
    "\n",
    "\n",
    "# Caminho para o arquivo .ods\n",
    "arquivo_ods = 'temp.ods'\n",
    "\n",
    "# Limpar a planilha\n",
    "planilha_limpa = ler_e_limpar_planilha(arquivo_ods)\n",
    "\n",
    "# Exibir a planilha limpa\n",
    "print(planilha_limpa)\n",
    "\n",
    "# Salvar a planilha transposta em um novo arquivo .xlsx\n",
    "planilha_limpa.to_excel('planilha_OK.xlsx', index=False, header=False)\n",
    "\n",
    "num_elementos = planilha_limpa.count().sum()\n",
    "print(f\"Total de elementos não vazios na planilha: {num_elementos}\")"
   ]
  },
  {
   "cell_type": "code",
   "execution_count": 6,
   "metadata": {},
   "outputs": [
    {
     "name": "stdout",
     "output_type": "stream",
     "text": [
      "            0\n",
      "0    00:01:49\n",
      "4    00:01:47\n",
      "8    00:01:44\n",
      "12   00:01:45\n",
      "16   00:01:45\n",
      "..        ...\n",
      "222  00:01:40\n",
      "226  00:01:42\n",
      "230  00:01:43\n",
      "234  00:01:39\n",
      "240  00:01:42\n",
      "\n",
      "[61 rows x 1 columns]\n",
      "Total de elementos não vazios na planilha: 61\n"
     ]
    }
   ],
   "source": [
    "def filtrar_tempos_superiores_a_55_segundos(planilha_limpa):\n",
    "    # Converter a coluna 0 (assumindo que é a primeira coluna) para string\n",
    "    planilha_limpa[0] = planilha_limpa[0].astype(str)\n",
    "    \n",
    "    # Filtrar linhas com tempos superiores a \"00:00:55\"\n",
    "    planilha_filtrada = planilha_limpa[planilha_limpa[0] > \"00:00:55\"]\n",
    "    return planilha_filtrada\n",
    "\n",
    "planilha_filtrada = filtrar_tempos_superiores_a_55_segundos(planilha_limpa)\n",
    "print(planilha_filtrada)\n",
    "num_elementos = planilha_filtrada.count().sum()\n",
    "print(f\"Total de elementos não vazios na planilha: {num_elementos}\")"
   ]
  },
  {
   "cell_type": "code",
   "execution_count": 7,
   "metadata": {},
   "outputs": [],
   "source": [
    "# Salvar a planilha filtrada em um novo arquivo .xlsx\n",
    "planilha_filtrada.to_excel('planilha_OK.xlsx', index=False, header=False)"
   ]
  },
  {
   "cell_type": "code",
   "execution_count": 13,
   "metadata": {},
   "outputs": [
    {
     "ename": "IndexError",
     "evalue": "list index out of range",
     "output_type": "error",
     "traceback": [
      "\u001b[0;31m---------------------------------------------------------------------------\u001b[0m",
      "\u001b[0;31mIndexError\u001b[0m                                Traceback (most recent call last)",
      "Cell \u001b[0;32mIn[13], line 16\u001b[0m\n\u001b[1;32m     12\u001b[0m     planilha_copia[\u001b[38;5;241m0\u001b[39m] \u001b[38;5;241m=\u001b[39m planilha_copia[\u001b[38;5;241m0\u001b[39m]\u001b[38;5;241m.\u001b[39mapply(formatar_tempo)\n\u001b[1;32m     14\u001b[0m     \u001b[38;5;28;01mreturn\u001b[39;00m planilha_copia\n\u001b[0;32m---> 16\u001b[0m planilha_formatada \u001b[38;5;241m=\u001b[39m \u001b[43mremover_campo_de_horas\u001b[49m\u001b[43m(\u001b[49m\u001b[43mplanilha_filtrada\u001b[49m\u001b[43m)\u001b[49m\n\u001b[1;32m     17\u001b[0m \u001b[38;5;28mprint\u001b[39m(planilha_formatada)\n",
      "Cell \u001b[0;32mIn[13], line 12\u001b[0m, in \u001b[0;36mremover_campo_de_horas\u001b[0;34m(planilha_filtrada)\u001b[0m\n\u001b[1;32m      9\u001b[0m planilha_copia \u001b[38;5;241m=\u001b[39m planilha_filtrada\u001b[38;5;241m.\u001b[39mcopy()\n\u001b[1;32m     11\u001b[0m \u001b[38;5;66;03m# Aplicar a função na cópia\u001b[39;00m\n\u001b[0;32m---> 12\u001b[0m planilha_copia[\u001b[38;5;241m0\u001b[39m] \u001b[38;5;241m=\u001b[39m \u001b[43mplanilha_copia\u001b[49m\u001b[43m[\u001b[49m\u001b[38;5;241;43m0\u001b[39;49m\u001b[43m]\u001b[49m\u001b[38;5;241;43m.\u001b[39;49m\u001b[43mapply\u001b[49m\u001b[43m(\u001b[49m\u001b[43mformatar_tempo\u001b[49m\u001b[43m)\u001b[49m\n\u001b[1;32m     14\u001b[0m \u001b[38;5;28;01mreturn\u001b[39;00m planilha_copia\n",
      "File \u001b[0;32m/usr/lib/python3/dist-packages/pandas/core/series.py:4771\u001b[0m, in \u001b[0;36mSeries.apply\u001b[0;34m(self, func, convert_dtype, args, **kwargs)\u001b[0m\n\u001b[1;32m   4661\u001b[0m \u001b[38;5;28;01mdef\u001b[39;00m \u001b[38;5;21mapply\u001b[39m(\n\u001b[1;32m   4662\u001b[0m     \u001b[38;5;28mself\u001b[39m,\n\u001b[1;32m   4663\u001b[0m     func: AggFuncType,\n\u001b[0;32m   (...)\u001b[0m\n\u001b[1;32m   4666\u001b[0m     \u001b[38;5;241m*\u001b[39m\u001b[38;5;241m*\u001b[39mkwargs,\n\u001b[1;32m   4667\u001b[0m ) \u001b[38;5;241m-\u001b[39m\u001b[38;5;241m>\u001b[39m DataFrame \u001b[38;5;241m|\u001b[39m Series:\n\u001b[1;32m   4668\u001b[0m \u001b[38;5;250m    \u001b[39m\u001b[38;5;124;03m\"\"\"\u001b[39;00m\n\u001b[1;32m   4669\u001b[0m \u001b[38;5;124;03m    Invoke function on values of Series.\u001b[39;00m\n\u001b[1;32m   4670\u001b[0m \n\u001b[0;32m   (...)\u001b[0m\n\u001b[1;32m   4769\u001b[0m \u001b[38;5;124;03m    dtype: float64\u001b[39;00m\n\u001b[1;32m   4770\u001b[0m \u001b[38;5;124;03m    \"\"\"\u001b[39;00m\n\u001b[0;32m-> 4771\u001b[0m     \u001b[38;5;28;01mreturn\u001b[39;00m \u001b[43mSeriesApply\u001b[49m\u001b[43m(\u001b[49m\u001b[38;5;28;43mself\u001b[39;49m\u001b[43m,\u001b[49m\u001b[43m \u001b[49m\u001b[43mfunc\u001b[49m\u001b[43m,\u001b[49m\u001b[43m \u001b[49m\u001b[43mconvert_dtype\u001b[49m\u001b[43m,\u001b[49m\u001b[43m \u001b[49m\u001b[43margs\u001b[49m\u001b[43m,\u001b[49m\u001b[43m \u001b[49m\u001b[43mkwargs\u001b[49m\u001b[43m)\u001b[49m\u001b[38;5;241;43m.\u001b[39;49m\u001b[43mapply\u001b[49m\u001b[43m(\u001b[49m\u001b[43m)\u001b[49m\n",
      "File \u001b[0;32m/usr/lib/python3/dist-packages/pandas/core/apply.py:1123\u001b[0m, in \u001b[0;36mSeriesApply.apply\u001b[0;34m(self)\u001b[0m\n\u001b[1;32m   1120\u001b[0m     \u001b[38;5;28;01mreturn\u001b[39;00m \u001b[38;5;28mself\u001b[39m\u001b[38;5;241m.\u001b[39mapply_str()\n\u001b[1;32m   1122\u001b[0m \u001b[38;5;66;03m# self.f is Callable\u001b[39;00m\n\u001b[0;32m-> 1123\u001b[0m \u001b[38;5;28;01mreturn\u001b[39;00m \u001b[38;5;28;43mself\u001b[39;49m\u001b[38;5;241;43m.\u001b[39;49m\u001b[43mapply_standard\u001b[49m\u001b[43m(\u001b[49m\u001b[43m)\u001b[49m\n",
      "File \u001b[0;32m/usr/lib/python3/dist-packages/pandas/core/apply.py:1174\u001b[0m, in \u001b[0;36mSeriesApply.apply_standard\u001b[0;34m(self)\u001b[0m\n\u001b[1;32m   1172\u001b[0m     \u001b[38;5;28;01melse\u001b[39;00m:\n\u001b[1;32m   1173\u001b[0m         values \u001b[38;5;241m=\u001b[39m obj\u001b[38;5;241m.\u001b[39mastype(\u001b[38;5;28mobject\u001b[39m)\u001b[38;5;241m.\u001b[39m_values\n\u001b[0;32m-> 1174\u001b[0m         mapped \u001b[38;5;241m=\u001b[39m \u001b[43mlib\u001b[49m\u001b[38;5;241;43m.\u001b[39;49m\u001b[43mmap_infer\u001b[49m\u001b[43m(\u001b[49m\n\u001b[1;32m   1175\u001b[0m \u001b[43m            \u001b[49m\u001b[43mvalues\u001b[49m\u001b[43m,\u001b[49m\n\u001b[1;32m   1176\u001b[0m \u001b[43m            \u001b[49m\u001b[43mf\u001b[49m\u001b[43m,\u001b[49m\n\u001b[1;32m   1177\u001b[0m \u001b[43m            \u001b[49m\u001b[43mconvert\u001b[49m\u001b[38;5;241;43m=\u001b[39;49m\u001b[38;5;28;43mself\u001b[39;49m\u001b[38;5;241;43m.\u001b[39;49m\u001b[43mconvert_dtype\u001b[49m\u001b[43m,\u001b[49m\n\u001b[1;32m   1178\u001b[0m \u001b[43m        \u001b[49m\u001b[43m)\u001b[49m\n\u001b[1;32m   1180\u001b[0m \u001b[38;5;28;01mif\u001b[39;00m \u001b[38;5;28mlen\u001b[39m(mapped) \u001b[38;5;129;01mand\u001b[39;00m \u001b[38;5;28misinstance\u001b[39m(mapped[\u001b[38;5;241m0\u001b[39m], ABCSeries):\n\u001b[1;32m   1181\u001b[0m     \u001b[38;5;66;03m# GH#43986 Need to do list(mapped) in order to get treated as nested\u001b[39;00m\n\u001b[1;32m   1182\u001b[0m     \u001b[38;5;66;03m#  See also GH#25959 regarding EA support\u001b[39;00m\n\u001b[1;32m   1183\u001b[0m     \u001b[38;5;28;01mreturn\u001b[39;00m obj\u001b[38;5;241m.\u001b[39m_constructor_expanddim(\u001b[38;5;28mlist\u001b[39m(mapped), index\u001b[38;5;241m=\u001b[39mobj\u001b[38;5;241m.\u001b[39mindex)\n",
      "File \u001b[0;32m/usr/lib/python3/dist-packages/pandas/_libs/lib.pyx:2924\u001b[0m, in \u001b[0;36mpandas._libs.lib.map_infer\u001b[0;34m()\u001b[0m\n",
      "Cell \u001b[0;32mIn[13], line 6\u001b[0m, in \u001b[0;36mremover_campo_de_horas.<locals>.formatar_tempo\u001b[0;34m(tempo)\u001b[0m\n\u001b[1;32m      3\u001b[0m \u001b[38;5;28;01mdef\u001b[39;00m \u001b[38;5;21mformatar_tempo\u001b[39m(tempo):\n\u001b[1;32m      4\u001b[0m     \u001b[38;5;66;03m# Assumir que o tempo está no formato HH:MM:SS e retornar MM:SS\u001b[39;00m\n\u001b[1;32m      5\u001b[0m     partes \u001b[38;5;241m=\u001b[39m tempo\u001b[38;5;241m.\u001b[39msplit(\u001b[38;5;124m'\u001b[39m\u001b[38;5;124m:\u001b[39m\u001b[38;5;124m'\u001b[39m)\n\u001b[0;32m----> 6\u001b[0m     \u001b[38;5;28;01mreturn\u001b[39;00m \u001b[38;5;124mf\u001b[39m\u001b[38;5;124m\"\u001b[39m\u001b[38;5;132;01m{\u001b[39;00mpartes[\u001b[38;5;241m1\u001b[39m]\u001b[38;5;132;01m}\u001b[39;00m\u001b[38;5;124m:\u001b[39m\u001b[38;5;132;01m{\u001b[39;00m\u001b[43mpartes\u001b[49m\u001b[43m[\u001b[49m\u001b[38;5;241;43m2\u001b[39;49m\u001b[43m]\u001b[49m\u001b[38;5;132;01m}\u001b[39;00m\u001b[38;5;124m\"\u001b[39m\n",
      "\u001b[0;31mIndexError\u001b[0m: list index out of range"
     ]
    }
   ],
   "source": [
    "# Função para remover o campo de horas e manter apenas MM:SS\n",
    "def remover_campo_de_horas(planilha_filtrada):\n",
    "    def formatar_tempo(tempo):\n",
    "        # Assumir que o tempo está no formato HH:MM:SS e retornar MM:SS\n",
    "        partes = tempo.split(':')\n",
    "        return f\"{partes[0]}:{partes[1]}\"\n",
    "    \n",
    "    # Criar uma cópia da planilha filtrada para evitar SettingWithCopyWarning\n",
    "    planilha_copia = planilha_filtrada.copy()\n",
    "    \n",
    "    # Aplicar a função na cópia\n",
    "    planilha_copia[0] = planilha_copia[0].apply(formatar_tempo)\n",
    "    \n",
    "    return planilha_copia\n",
    "\n",
    "planilha_formatada = remover_campo_de_horas(planilha_filtrada)\n",
    "print(planilha_formatada)"
   ]
  },
  {
   "cell_type": "code",
   "execution_count": 10,
   "metadata": {},
   "outputs": [
    {
     "name": "stdout",
     "output_type": "stream",
     "text": [
      "        0         4         8         12        16        20        24   \\\n",
      "0  00:01:49  00:01:47  00:01:44  00:01:45  00:01:45  00:01:45  00:01:49   \n",
      "\n",
      "        28        32        36   ...       204       206       210       214  \\\n",
      "0  00:01:48  00:01:48  00:01:47  ...  00:01:21  00:01:40  00:01:36  00:01:39   \n",
      "\n",
      "        218       222       226       230       234       240  \n",
      "0  00:01:41  00:01:40  00:01:42  00:01:43  00:01:39  00:01:42  \n",
      "\n",
      "[1 rows x 61 columns]\n"
     ]
    }
   ],
   "source": [
    "# Transpor a planilha filtrada\n",
    "planilha_transposta = planilha_filtrada.transpose()\n",
    "\n",
    "# Exibir a planilha transposta\n",
    "print(planilha_transposta)\n",
    "\n",
    "# Salvar a planilha transposta em um novo arquivo .xlsx\n",
    "planilha_transposta.to_excel('planilha_transposta.xlsx', index=False, header=False)"
   ]
  },
  {
   "cell_type": "code",
   "execution_count": null,
   "metadata": {},
   "outputs": [],
   "source": []
  }
 ],
 "metadata": {
  "kernelspec": {
   "display_name": "Python 3",
   "language": "python",
   "name": "python3"
  },
  "language_info": {
   "codemirror_mode": {
    "name": "ipython",
    "version": 3
   },
   "file_extension": ".py",
   "mimetype": "text/x-python",
   "name": "python",
   "nbconvert_exporter": "python",
   "pygments_lexer": "ipython3",
   "version": "3.11.2"
  }
 },
 "nbformat": 4,
 "nbformat_minor": 2
}
