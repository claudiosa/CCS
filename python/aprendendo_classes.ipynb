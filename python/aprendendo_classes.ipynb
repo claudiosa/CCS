{
 "cells": [
  {
   "cell_type": "code",
   "execution_count": 46,
   "metadata": {},
   "outputs": [
    {
     "name": "stdout",
     "output_type": "stream",
     "text": [
      "Construtor para criar um objeto desta classe ...\n",
      "Não há parâmetros neste construtor ... pois é um dicionário que vai ter o meu grafo\n",
      "Grafo: {'A': ['B', 'D'], 'B': ['A', 'C'], 'C': ['B', 'D', 'E'], 'D': ['C', 'A'], 'E': ['C', 'F'], 'F': ['E']}\n",
      "Arestas como dicionário:  {'A': 'D', 'B': 'C', 'C': 'E', 'E': 'F'}\n",
      "Vertices ['A', 'B', 'C', 'D', 'E', 'F']\n",
      "Este grafo usa um dicionário para matriz de adjacencias!!!\n",
      "F E C B A D \n",
      " Um DFS sob um grafo dado um vertice qualquer: ['F', 'E', 'C', 'B', 'A', 'D']\n",
      "\n",
      "Origem: F \n",
      " Sequencia DFS: ['F', 'E', 'C', 'B', 'A', 'D'] \n",
      "F E C \n",
      " SIMPLES CAMINHO: ['F', 'E', 'C', 'B']\n",
      "\n",
      "Origem: F -> Destino: B \n",
      "caminho: ['F', 'E', 'C', 'B'] \n"
     ]
    }
   ],
   "source": [
    "## partindo do CHAT GPT\n",
    "#sando uma estrutura de dicionário para representar os vértices e suas adjacências:\n",
    "class Grafo:\n",
    "    def __init__(self):\n",
    "        ##def __init__(self, par1 , par2 ):      \n",
    "        '''\n",
    "        par1 , par2 :: para passar na CLASSE ... não nos métodos apenas \n",
    "        '''  \n",
    "        # PROPRIEDADES\n",
    "        self.grafo = {} ### inicializo a classe  com um estrutura de dicionário\n",
    "        self.tipo_grafo = \"Este grafo usa um dicionário para matriz de adjacencias!!!\"\n",
    "        print(\"Construtor para criar um objeto desta classe ...\")\n",
    "        print(\"Não há parâmetros neste construtor ... pois é um dicionário que vai ter o meu grafo\")\n",
    "\n",
    "\n",
    "    def adicionar_vertice(self, vertice): # # métodos\n",
    "        if vertice not in self.grafo:\n",
    "            self.grafo[vertice] = []\n",
    "\n",
    "    def adicionar_aresta(self, vertice1, vertice2):   # métodos\n",
    "        if vertice1 in self.grafo and vertice2 in self.grafo:\n",
    "            self.grafo[vertice1].append(vertice2)\n",
    "            self.grafo[vertice2].append(vertice1)  # Adicionando uma aresta não direcionada\n",
    "            ### grafo BI-DIRECIONAL\n",
    "\n",
    "    def vertices(self):\n",
    "        return list(self.grafo.keys()) # devido ao keys\n",
    "\n",
    "    def arestas(self): # métodos ---- ACAOA\n",
    "        lista_arestas = []\n",
    "        for vertice, vizinhos in self.grafo.items():\n",
    "            for vizinho in vizinhos:\n",
    "                if (vizinho, vertice) not in lista_arestas:  # Evita duplicatas em grafos não direcionados\n",
    "                    lista_arestas.append((vertice, vizinho))\n",
    "        return lista_arestas\n",
    "\n",
    "    def vizinhos(self, vertice):\n",
    "        if vertice in self.grafo:\n",
    "            return self.grafo[vertice]\n",
    "        else:\n",
    "            return None\n",
    "\n",
    "  # https://www.geeksforgeeks.org/python-program-for-depth-first-search-or-dfs-for-a-graph/?ref=lbp\n",
    "    # The function to do DFS traversal. It uses dfs_util_1\n",
    "    def DFS(self, vertice):\n",
    "        # Create a set to store visited vertices\n",
    "        ##### ORIGINAL ERA visitados = set()\n",
    "        visitados = []\n",
    "        #print(\"\\n Visitados VAZIO:\", visitados)\n",
    " \n",
    "        # Call the recursive helper function # to print DFS traversal\n",
    "        self.DFS_util_1(vertice, visitados)\n",
    "        #print(\"\\n Visitados AQUI:\", type(visitados))\n",
    "        print(\"\\n Um DFS sob um grafo dado um vertice qualquer:\", visitados)\n",
    "        print('\\nOrigem: %s \\n Sequencia DFS: %s ' %( vertice, visitados))\n",
    "        \n",
    " # A function used by DFS\n",
    "    def DFS_util_1(self, vertice, visitados):\n",
    " \n",
    "        # Mark the current node as visited    and print it\n",
    "        #visitados.add(vertice)\n",
    "        visitados.append(vertice)\n",
    "        print(vertice, end=' ')  ## parcial\n",
    "         \n",
    "        # Recur for all the vertices adjacent to this vertex\n",
    "        for vizinho in self.grafo[vertice]:\n",
    "            if vizinho not in visitados:\n",
    "                self.DFS_util_1(vizinho, visitados)\n",
    "\n",
    "    def single_path(self, origem, destino):\n",
    "        # Create a set to store visited vertices\n",
    "        ##### ORIGINAL ERA visitados = set()\n",
    "        caminho = []\n",
    "        #print(\"\\n Visitados VAZIO:\", visitados)\n",
    " \n",
    "        # Call the recursive helper function # to print DFS traversal\n",
    "        self.DFS_util_2(origem, destino, caminho)\n",
    "        #print(\"\\n Visitados AQUI:\", type(visitados))\n",
    "        print(\"\\n SIMPLES CAMINHO:\", caminho)\n",
    "        print('\\nOrigem: %s -> Destino: %s \\ncaminho: %s ' %( origem, destino, caminho))\n",
    "    \n",
    "    def DFS_util_2(self, origem, destino, caminho):\n",
    "        # Mark the current node as visited    # and print it\n",
    "        #visitados.add(vertice)\n",
    "        caminho.append(origem)\n",
    "        print(origem, end=' ')  ## IMPRIME parcial\n",
    "         \n",
    "        # Recur for all the vertices adjacent to this vertex\n",
    "        for vizinho in self.grafo[origem]:\n",
    "            if vizinho == destino:\n",
    "                caminho.append(vizinho)\n",
    "                return    ### verificar se OK isto\n",
    "            elif vizinho not in caminho:\n",
    "                self.DFS_util_2(vizinho, destino, caminho)\n",
    "\n",
    "    def __str__(self):\n",
    "        return f\"Grafo: {self.grafo}\" # tem acesso aos atributos desta classe ... \n",
    "\n",
    "grafo = Grafo() # criando uma INSTANCIA da classe grafo ... o objeto é criado\n",
    "grafo.adicionar_vertice('A')\n",
    "grafo.adicionar_vertice('B')\n",
    "grafo.adicionar_vertice('C')\n",
    "grafo.adicionar_vertice('D')\n",
    "grafo.adicionar_vertice('E')\n",
    "grafo.adicionar_vertice('F')\n",
    "grafo.adicionar_aresta('A', 'B')\n",
    "grafo.adicionar_aresta('B', 'C')\n",
    "grafo.adicionar_aresta('C', 'D')\n",
    "grafo.adicionar_aresta('D', 'A')\n",
    "grafo.adicionar_aresta('C', 'E')\n",
    "grafo.adicionar_aresta('F', 'E')\n",
    "\n",
    "print(grafo)\n",
    "print(\"Arestas como dicionário: \",dict(grafo.arestas()))\n",
    "print(\"Vertices\", grafo.vertices())\n",
    "print(grafo.tipo_grafo)\n",
    "grafo.DFS('F')   #### varredura em DFS a partir deste vértice\n",
    "\n",
    "grafo.single_path('F','B')"
   ]
  },
  {
   "cell_type": "code",
   "execution_count": 43,
   "metadata": {},
   "outputs": [
    {
     "name": "stdout",
     "output_type": "stream",
     "text": [
      "{3, 13}\n"
     ]
    }
   ],
   "source": [
    "x = set()\n",
    "x.add(3)\n",
    "x.add(13)\n",
    "print(x)\n"
   ]
  },
  {
   "cell_type": "code",
   "execution_count": 44,
   "metadata": {},
   "outputs": [
    {
     "name": "stdout",
     "output_type": "stream",
     "text": [
      "[2, 1]\n"
     ]
    }
   ],
   "source": [
    "print(list(reversed([1,2])))"
   ]
  },
  {
   "cell_type": "code",
   "execution_count": 45,
   "metadata": {},
   "outputs": [
    {
     "name": "stdout",
     "output_type": "stream",
     "text": [
      "F\n",
      "E\n",
      "C\n",
      "B\n",
      "A\n",
      "D\n"
     ]
    }
   ],
   "source": [
    "lista =  ['F', 'E', 'C', 'B', 'A', 'D']\n",
    "for item in lista:\n",
    "    print(item)"
   ]
  },
  {
   "cell_type": "code",
   "execution_count": 95,
   "metadata": {},
   "outputs": [],
   "source": [
    "### do Chat GPT + eu\n",
    "class Linguagem:\n",
    "    def __init__(self, nome_da_linguagem, paradigma, tipo_de_dados):\n",
    "        self.__linguagens = []  # Lista de tuplas (paradigma, tipo_de_dados)\n",
    "        self.__nome = nome_da_linguagem ### OS ATRIBUTOS self.__nome, __tipo\n",
    "        self.__especie = paradigma\n",
    "        self.__tipo = tipo_de_dados\n",
    "        ### sao os ATRIBUTOS ... self. ;;;;;;\n",
    "        ### o que é o duplo underline mesmo????\n",
    "    \n",
    "    ## métodos ... \n",
    "    def adiciona_linguagem(self, nome_da_linguagem, paradigma, tipo_de_dados):\n",
    "        \"\"\"\n",
    "        Adiciona uma linguagem à lista de linguagens.\n",
    "        Args:\n",
    "            paradigma (str): O paradigma da linguagem.\n",
    "            tipo_de_dados (str): O tipo de dados da linguagem.\n",
    "        \"\"\"\n",
    "        tupla = (nome_da_linguagem, paradigma, tipo_de_dados)\n",
    "        self.__linguagens.append(tupla)\n",
    "\n",
    "    def obter_nome(self):\n",
    "        return self.__nome\n",
    "\n",
    "    def obter_especie(self):\n",
    "        \"\"\"\n",
    "        Obtém a espécie da linguagem.\n",
    "        Returns:\n",
    "            str: O paradigma da linguagem.\n",
    "        \"\"\"\n",
    "        return self.__especie\n",
    "\n",
    "    def obter_tipo(self):\n",
    "        \"\"\"\n",
    "        Obtém o tipo de dados da linguagem.\n",
    "        Returns:\n",
    "            str: O tipo de dados da linguagem.\n",
    "        \"\"\"\n",
    "        return self.__tipo\n",
    "\n",
    "    def imprimir_linguagens(self):\n",
    "        \"\"\"\n",
    "        Imprime a lista de linguagens.\n",
    "        \"\"\"\n",
    "        print(\"Lista de linguagens:\")\n",
    "        for nome_da_linguagem, paradigma, tipo_de_dados in self.__linguagens:\n",
    "            print(f\"Nome: {nome_da_linguagem} || Paradigma: {paradigma} || Tipagem de Dados: {tipo_de_dados}\")"
   ]
  },
  {
   "cell_type": "code",
   "execution_count": 104,
   "metadata": {},
   "outputs": [
    {
     "name": "stdout",
     "output_type": "stream",
     "text": [
      "Lista de linguagens:\n",
      "Nome: C++ || Paradigma: OO || Tipagem de Dados: Estática\n",
      "Nome: Prolog || Paradigma: Lógica || Tipagem de Dados: Dinamica\n",
      "Nome: Funcional || Paradigma: Haskell || Tipagem de Dados: Estática\n",
      "Nome: Picat || Paradigma: Multi-paradigma || Tipagem de Dados: Dinamica\n",
      "Nome: V || Paradigma: Multi-paradigma || Tipagem de Dados: Estática\n",
      "PARADIGMA\n",
      "TIPAGEM\n",
      "NOME\n"
     ]
    },
    {
     "data": {
      "text/plain": [
       "False"
      ]
     },
     "execution_count": 104,
     "metadata": {},
     "output_type": "execute_result"
    }
   ],
   "source": [
    "l=Linguagem(\"NOME\", \"PARADIGMA\",  \"TIPAGEM\")\n",
    "\n",
    "l.adiciona_linguagem(\"C++\", \"OO\" , \"Estática\")\n",
    "l.adiciona_linguagem(\"Prolog\", \"Lógica\", \"Dinamica\")\n",
    "l.adiciona_linguagem(\"Funcional\", \"Haskell\", \"Estática\")\n",
    "l.adiciona_linguagem(\"Picat\", \"Multi-paradigma\",\"Dinamica\")\n",
    "l.adiciona_linguagem(\"V\", \"Multi-paradigma\", \"Estática\")\n",
    "l.imprimir_linguagens()\n",
    "print(l.obter_especie())\n",
    "print(l.obter_tipo())\n",
    "print(l.obter_nome())\n",
    "hasattr(l,\"PARADIGMA\" )\n",
    "\n"
   ]
  },
  {
   "cell_type": "code",
   "execution_count": 54,
   "metadata": {},
   "outputs": [
    {
     "name": "stdout",
     "output_type": "stream",
     "text": [
      "[('a', 'b')]\n"
     ]
    }
   ],
   "source": [
    "x=[]\n",
    "x.append(('a','b'))\n",
    "print(x)"
   ]
  },
  {
   "cell_type": "code",
   "execution_count": 76,
   "metadata": {},
   "outputs": [
    {
     "name": "stdout",
     "output_type": "stream",
     "text": [
      "<class 'list'>\n",
      "<class 'dict'>\n",
      "<class 'list'>\n",
      "<class 'tuple'>\n"
     ]
    }
   ],
   "source": [
    "### tudos são CLASSES .... objetos que tem instâncias, com métodos e atributos nestes métodos\n",
    "print(type([]))\n",
    "print(type({}))\n",
    "print(type([()]))\n",
    "print(type(()))"
   ]
  },
  {
   "cell_type": "code",
   "execution_count": 128,
   "metadata": {},
   "outputs": [],
   "source": [
    "class Circulo:\n",
    "    pi = 3.77777\n",
    "    def __init__(self, raio_p = 5):\n",
    "        self.raio = raio_p    ### raio_p parametro default...\n",
    "\n",
    "    def area(self):\n",
    "        return (self.raio * self.raio ) * Circulo.pi\n",
    "    \n",
    "    def qual_raio(self):\n",
    "        print(\"O raio aqui e agora é: \",  self.raio)"
   ]
  },
  {
   "cell_type": "code",
   "execution_count": 129,
   "metadata": {},
   "outputs": [
    {
     "name": "stdout",
     "output_type": "stream",
     "text": [
      "94.44425\n",
      "O raio aqui e agora é:  5\n",
      "33.99993\n",
      "O raio aqui e agora é:  3\n"
     ]
    }
   ],
   "source": [
    "c1 = Circulo()\n",
    "print(c1.area())\n",
    "c1.qual_raio()\n",
    "\n",
    "c2 = Circulo(3)\n",
    "print(c2.area())\n",
    "c2.qual_raio()"
   ]
  },
  {
   "cell_type": "code",
   "execution_count": null,
   "metadata": {},
   "outputs": [],
   "source": []
  },
  {
   "cell_type": "code",
   "execution_count": null,
   "metadata": {},
   "outputs": [],
   "source": []
  }
 ],
 "metadata": {
  "kernelspec": {
   "display_name": "Python 3",
   "language": "python",
   "name": "python3"
  },
  "language_info": {
   "codemirror_mode": {
    "name": "ipython",
    "version": 3
   },
   "file_extension": ".py",
   "mimetype": "text/x-python",
   "name": "python",
   "nbconvert_exporter": "python",
   "pygments_lexer": "ipython3",
   "version": "3.11.2"
  }
 },
 "nbformat": 4,
 "nbformat_minor": 2
}
