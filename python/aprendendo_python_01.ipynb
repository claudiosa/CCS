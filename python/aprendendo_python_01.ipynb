{
 "cells": [
  {
   "cell_type": "code",
   "execution_count": 4,
   "metadata": {},
   "outputs": [
    {
     "name": "stdout",
     "output_type": "stream",
     "text": [
      "enumerate %d [(0, 'a'), (1, 'b'), (2, 'a'), (3, 'b'), (4, 'a'), (5, 'b')]\n",
      "Reflita:::::: 0 0\n",
      "Reflita:::::: 1 1\n",
      "Reflita:::::: 2 2\n",
      "Reflita:::::: 3 3\n",
      "Reflita:::::: 4 4\n",
      "Reflita:::::: 5 5\n",
      "Reflita:::::: 6 6\n"
     ]
    }
   ],
   "source": [
    "letras = ['a','b', 'a','b','a','b']\n",
    "var = list(enumerate(letras))\n",
    "# o enumerate ... cria indices no objeto ... no caso uma lista vai de 0 a n-1\n",
    "print(f'enumerate :', var)\n",
    "for i, item in enumerate(range(7)):\n",
    "    print(\"Reflita::::::\", i, item)\n",
    "    "
   ]
  },
  {
   "cell_type": "code",
   "execution_count": 1,
   "metadata": {},
   "outputs": [
    {
     "name": "stdout",
     "output_type": "stream",
     "text": [
      "[(1, 4), (2, 8)]\n",
      "Chaves:  [('a', 'c'), ('b', 'd')]\n",
      "Valores:  [(100, 300), (200, 400)]\n"
     ]
    }
   ],
   "source": [
    "l1=[1,2]\n",
    "l2=[4,8]\n",
    "x = list(zip(l1,l2))\n",
    "print(x)\n",
    "d1={'a':100, 'b':200  }\n",
    "d2={'c':300, 'd':400  }\n",
    "chaves =list(zip(d1,d2))\n",
    "valores =list(zip(d1.values(),d2.values()))\n",
    "print(\"Chaves: \",chaves)\n",
    "print(\"Valores: \", valores)"
   ]
  },
  {
   "cell_type": "code",
   "execution_count": 5,
   "metadata": {},
   "outputs": [
    {
     "name": "stdout",
     "output_type": "stream",
     "text": [
      "\n",
      " Int mais Str ... eh um erro mesmo\n"
     ]
    }
   ],
   "source": [
    "try:\n",
    "    77 + 'cc'\n",
    "except TypeError:\n",
    "    print(\"\\n Int mais Str ... eh um erro mesmo\")    "
   ]
  },
  {
   "cell_type": "code",
   "execution_count": 6,
   "metadata": {},
   "outputs": [
    {
     "name": "stdout",
     "output_type": "stream",
     "text": [
      "\n",
      " Int mais Str ... eh um erro mesmo\n",
      "\n",
      " Nao tem jeito mesmo\n"
     ]
    }
   ],
   "source": [
    "try:\n",
    "    77 + 'cc'\n",
    "except TypeError:\n",
    "    print(\"\\n Int mais Str ... eh um erro mesmo!!!!\") \n",
    "else:    \n",
    "    print(\"\\n se houvesse uma alternativa no anterior\") \n",
    "finally:    \n",
    "    print(\"\\n Nao tem jeito mesmo\") "
   ]
  },
  {
   "cell_type": "code",
   "execution_count": 9,
   "metadata": {},
   "outputs": [
    {
     "name": "stdout",
     "output_type": "stream",
     "text": [
      "->  0->  1->  2->  3->  4->  5->  6->  7->  8->  9->  10\n",
      " Break funcionou de acordo com esperado\n"
     ]
    }
   ],
   "source": [
    "# combine a estrutura anterior com o loop infinito\n",
    "i=0\n",
    "while True:\n",
    "    print(\"-> \", i, end='')\n",
    "    i = i + 1\n",
    "    if i > 10 :\n",
    "        break\n",
    "\n",
    "print(\"\\n Break funcionou de acordo com esperado\")    "
   ]
  },
  {
   "cell_type": "code",
   "execution_count": 11,
   "metadata": {},
   "outputs": [
    {
     "name": "stdout",
     "output_type": "stream",
     "text": [
      "adfa\n",
      "asdfasdf\n",
      "adsfadf\n",
      "asdfas\n"
     ]
    }
   ],
   "source": [
    "### doc string\n",
    "texto_varias_linhas = '''adfa\n",
    "asdfasdf\n",
    "adsfadf\n",
    "asdfas'''\n",
    "print(texto_varias_linhas)"
   ]
  },
  {
   "cell_type": "code",
   "execution_count": null,
   "metadata": {},
   "outputs": [],
   "source": []
  },
  {
   "cell_type": "code",
   "execution_count": null,
   "metadata": {},
   "outputs": [],
   "source": []
  }
 ],
 "metadata": {
  "kernelspec": {
   "display_name": "Python 3",
   "language": "python",
   "name": "python3"
  },
  "language_info": {
   "codemirror_mode": {
    "name": "ipython",
    "version": 3
   },
   "file_extension": ".py",
   "mimetype": "text/x-python",
   "name": "python",
   "nbconvert_exporter": "python",
   "pygments_lexer": "ipython3",
   "version": "3.11.2"
  }
 },
 "nbformat": 4,
 "nbformat_minor": 2
}
