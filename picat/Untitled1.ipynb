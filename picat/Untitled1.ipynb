{
 "cells": [
  {
   "cell_type": "code",
   "execution_count": 6,
   "metadata": {},
   "outputs": [
    {
     "name": "stdout",
     "output_type": "stream",
     "text": [
      "*** SYNTAX ERROR *** (0-1) missing ',', ';', or some other operator.\r\n",
      "picat -e \u001b[31m <<HERE>> \u001b[39m\r\n",
      "         alo_mundo.pi\r\n",
      "\r\n"
     ]
    }
   ],
   "source": [
    "picat -e alo_mundo.pi"
   ]
  },
  {
   "cell_type": "code",
   "execution_count": 4,
   "metadata": {},
   "outputs": [
    {
     "name": "stdout",
     "output_type": "stream",
     "text": [
      "*** error(function_used_as_predicate((+)/2),module(basic))\r\n"
     ]
    }
   ],
   "source": [
    "2+3"
   ]
  },
  {
   "cell_type": "code",
   "execution_count": 5,
   "metadata": {},
   "outputs": [
    {
     "name": "stdout",
     "output_type": "stream",
     "text": [
      "*** SYNTAX ERROR *** (0-1) missing ',', ';', or some other operator.\r\n",
      "load_ext \u001b[31m <<HERE>> \u001b[39m\r\n",
      "         ipicat\r\n",
      "\r\n"
     ]
    }
   ],
   "source": [
    "load_ext ipicat"
   ]
  },
  {
   "cell_type": "code",
   "execution_count": 7,
   "metadata": {},
   "outputs": [
    {
     "name": "stdout",
     "output_type": "stream",
     "text": [
      "  ALO MUNDO!!! \r\n",
      "yes\r\n"
     ]
    }
   ],
   "source": [
    "printf(\"  ALO MUNDO!!! \")."
   ]
  },
  {
   "cell_type": "code",
   "execution_count": null,
   "metadata": {},
   "outputs": [],
   "source": []
  },
  {
   "cell_type": "code",
   "execution_count": null,
   "metadata": {},
   "outputs": [],
   "source": []
  }
 ],
 "metadata": {
  "kernelspec": {
   "display_name": "Picat",
   "language": "picat",
   "name": "picat"
  },
  "language_info": {
   "codemirror_mode": "scheme",
   "file_extension": ".pi",
   "mimetype": "text/plain",
   "name": "Picat"
  }
 },
 "nbformat": 4,
 "nbformat_minor": 2
}
