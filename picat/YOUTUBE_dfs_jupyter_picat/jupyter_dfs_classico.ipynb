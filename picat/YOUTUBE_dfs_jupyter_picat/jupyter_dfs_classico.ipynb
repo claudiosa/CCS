{
 "cells": [
  {
   "cell_type": "code",
   "execution_count": 2,
   "metadata": {},
   "outputs": [
    {
     "name": "stdout",
     "output_type": "stream",
     "text": [
      "The ipicat extension is already loaded. To reload it, use:\n",
      "  %reload_ext ipicat\n"
     ]
    }
   ],
   "source": [
    "%load_ext ipicat\n",
    "#%%%%% SOMENTE um % na frente  de %load_ext ipicat\n",
    "# ou   %reload_ext ipicat"
   ]
  },
  {
   "cell_type": "code",
   "execution_count": 7,
   "metadata": {},
   "outputs": [
    {
     "name": "stdout",
     "output_type": "stream",
     "text": [
      "\n",
      " Bem vindo ao Picat+jupyter\n"
     ]
    }
   ],
   "source": [
    "%%picat \n",
    "%# SEMPRE A LINHA ACIMA DOIS %%\n",
    "main => printf(\"\\n Bem vindo ao Picat+jupyter\")."
   ]
  },
  {
   "cell_type": "code",
   "execution_count": 8,
   "metadata": {},
   "outputs": [
    {
     "name": "stdout",
     "output_type": "stream",
     "text": [
      "SOMA: 3\n"
     ]
    }
   ],
   "source": [
    "%%picat \n",
    "%%% SEMPRE A LINHA ACIMA ... a cada célula\n",
    "main => X = 1,\n",
    "        Y = 2,\n",
    "        printf(\"SOMA: %w\", (X+Y))."
   ]
  },
  {
   "cell_type": "code",
   "execution_count": 9,
   "metadata": {},
   "outputs": [
    {
     "name": "stdout",
     "output_type": "stream",
     "text": [
      "Todos os nós: [1,2,3,4,5,6,7]\n"
     ]
    }
   ],
   "source": [
    "%%picat\n",
    "%%%%%%%%%%%%%%%%%% CCS\n",
    "import util.\n",
    "import ordset.\n",
    "%%% 'import' must appear before all definitions.\n",
    "/*\n",
    "Grafo orientado ciclico - NAO EH UM DAG\n",
    "       1\n",
    "      /|\\ \n",
    "     / | \\\n",
    "    /  |  \\\n",
    "   /   |   \\\n",
    "->2    3    4\n",
    " |\\    |   /|\n",
    "|  \\   |  / |\n",
    "|   \\  | /  | \n",
    "|      5    |\n",
    "|     / \\  |\n",
    "|    /   \\|\n",
    "|   /     7----> 1\n",
    "|  /     (volta ao 1) \n",
    "| /\n",
    "|/\n",
    "6     \n",
    "*/\n",
    "index (-,-,-)\n",
    "% arco(origem, destino, peso)\n",
    "arc(1, 2, 1). \n",
    "arc(1, 3, 1). \n",
    "arc(1, 4, 1). \n",
    "arc(2, 5, 1). \n",
    "arc(2, 6, 1). \n",
    "arc(3, 5, 1). \n",
    "arc(4, 5, 1). \n",
    "arc(5, 6, 1). \n",
    "arc(5, 7, 1). \n",
    "arc(7, 1, 1). \n",
    "\n",
    "%%% varias maneiras para esta função -- exibindo o findall\n",
    "%%% ilustra o findall e a biblioteca de conjuntos\n",
    "all_nodes() = Set => \n",
    "    L1 = findall(X, arc(X,Y,_)),\n",
    "    L2 = findall(Y, arc(X,Y,_)),\n",
    "    new_ordset(L1) = Set_1,\n",
    "    new_ordset(L2) = Set_2,\n",
    "    Set = union(Set_1, Set_2).\n",
    "/****************************************/\n",
    "\n",
    "main =>\n",
    "    printf(\"Todos os nós: %w\", all_nodes()).\n",
    "\n",
    "%% logo o main é mandatório em cada célula    "
   ]
  },
  {
   "cell_type": "code",
   "execution_count": 12,
   "metadata": {},
   "outputs": [
    {
     "name": "stdout",
     "output_type": "stream",
     "text": [
      "\n",
      "\n",
      " Início: 2\t  Fim: 1\n",
      " Caminho: [2,5,7,1]\n",
      "\n",
      " Início: 2\t  Fim: 2\n",
      " Caminho: [2]\n",
      "\n",
      " Início: 2\t  Fim: 3\n",
      " Caminho: [2,5,7,1,3]\n",
      "\n",
      " Início: 2\t  Fim: 4\n",
      " Caminho: [2,5,7,1,4]\n",
      "\n",
      " Início: 2\t  Fim: 5\n",
      " Caminho: [2,5]\n",
      "\n",
      " Início: 2\t  Fim: 6\n",
      " Caminho: [2,5,6]\n",
      "\n",
      " Início: 2\t  Fim: 7\n",
      " Caminho: [2,5,7]\n",
      "\n",
      " Caminhos de 2 a 6 (findall): [[2|6],[2,1,7,5,3|6],[2,1,7,5,4|6],[2,1,7,5|6],[2,1,7,5|6],[2,1,7,5|6],[2,1,7|6],[2,1|6]]\n",
      " FIM do main: OK\n",
      "\n"
     ]
    }
   ],
   "source": [
    "%%picat\n",
    "%%%%%%%%%%%%%%%%%% CCS - código completo\n",
    "import util.\n",
    "import ordset.\n",
    "%%% 'import' must appear before all definitions.\n",
    "index (-,-,-)\n",
    "% arco(origem, destino, peso)\n",
    "arc(1, 2, 1). \n",
    "arc(1, 3, 1). \n",
    "arc(1, 4, 1). \n",
    "arc(2, 5, 1). \n",
    "arc(2, 6, 1). \n",
    "arc(3, 5, 1). \n",
    "arc(4, 5, 1). \n",
    "arc(5, 6, 1). \n",
    "arc(5, 7, 1). \n",
    "arc(7, 1, 1). \n",
    "\n",
    "%%% varias maneiras para esta função -- exibindo o findall\n",
    "%%% ilustra o findall e a biblioteca de conjuntos\n",
    "all_nodes() = Set => \n",
    "    L1 = findall(X, arc(X,Y,_)),\n",
    "    L2 = findall(Y, arc(X,Y,_)),\n",
    "    new_ordset(L1) = Set_1,\n",
    "    new_ordset(L2) = Set_2,\n",
    "    Set = union(Set_1, Set_2).\n",
    "/****************************************/\n",
    "\n",
    "main ?=>\n",
    "    Init_Node = 2,  /*** ficou mais interessante */\n",
    "    %%End_Node =  vira do foreach,\n",
    "    \n",
    "    Nodes = all_nodes(), %%%% -- Testada na célula acima\n",
    "    \n",
    "    foreach(End_Node in Nodes)\n",
    "        printf(\"\\n\\n Início: %w\\t  Fim: %w\",Init_Node, End_Node),\n",
    "        dfs_classico(Init_Node, End_Node, [Init_Node], [], Sol),\n",
    "        printf(\"\\n Caminho: %w\", reverse(Sol[1]))\n",
    "        %printf(\"\\n Valores das Arestas: %w\\n\", reverse(Sol[2]))\n",
    "    end,\n",
    "\n",
    "    /**** Caminho com mais opcoes ****/\n",
    "    Todas_SOL = findall(Um_Cam, (dfs_classico(Graph, 2, 6, [2], Sol), Um_Cam = Sol[1] )),\n",
    "    printf(\"\\n\\n Caminhos de 2 a 6 (findall): %w\", Todas_SOL ),\n",
    "    \n",
    "    printf(\"\\n FIM do main: OK\\n\"). \n",
    "\n",
    "main => printf(\"\\n Fim do main com falha em alguma busca ... NO SOLUTION\").   \n",
    "%%%%%%%%%%%%%%%%%%%%%%%%%%%%%%%%\n",
    "\n",
    "dfs_classico(Node, End_Node, Visitados, Arestas, Sol) ?=>\n",
    "    Node == End_Node,\n",
    "    Sol = {Visitados, Arestas}. %%%% UM BOM \"TRUQUE\" ...\n",
    "    %printf(\"\\n Há um caminho (cláusula aterrada -- parada da recursão)\").\n",
    "\n",
    "dfs_classico(Node, End_Node, Partial_Caminho, Partial_Arestas, Sol) =>\n",
    "    \n",
    "        arc(Node, Prox, Valor),\n",
    "        not membchk(Prox,Partial_Caminho), %%%% faster \n",
    "        %append([Prox], Partial_Caminho,  L_Visitados),\n",
    "        %append([Aresta], Partial_Arestas, L_Arestas),\n",
    "        % OU\n",
    "        Visitados = [Prox] ++ Partial_Caminho,\n",
    "        Arestas = [Valor] ++ Partial_Arestas,\n",
    "    dfs_classico(Prox, End_Node, Visitados, Arestas, Sol).\n",
    "\n",
    "/* =============================== THE END =============================== */"
   ]
  },
  {
   "cell_type": "code",
   "execution_count": null,
   "metadata": {},
   "outputs": [],
   "source": []
  },
  {
   "cell_type": "code",
   "execution_count": null,
   "metadata": {},
   "outputs": [],
   "source": []
  }
 ],
 "metadata": {
  "kernelspec": {
   "display_name": "Python 3",
   "language": "python",
   "name": "python3"
  },
  "language_info": {
   "codemirror_mode": {
    "name": "ipython",
    "version": 3
   },
   "file_extension": ".py",
   "mimetype": "text/x-python",
   "name": "python",
   "nbconvert_exporter": "python",
   "pygments_lexer": "ipython3",
   "version": "3.11.2"
  }
 },
 "nbformat": 4,
 "nbformat_minor": 2
}
