{
 "cells": [
  {
   "cell_type": "code",
   "execution_count": 2,
   "metadata": {},
   "outputs": [
    {
     "name": "stdout",
     "output_type": "stream",
     "text": [
      "The ipicat extension is already loaded. To reload it, use:\n",
      "  %reload_ext ipicat\n"
     ]
    }
   ],
   "source": [
    "%load_ext ipicat\n",
    "# PRIMEIRA CELULA ...\n",
    "# %%%%% SOMENTE um % na frente  de %load_ext ipicat"
   ]
  },
  {
   "cell_type": "code",
   "execution_count": 3,
   "metadata": {},
   "outputs": [
    {
     "name": "stdout",
     "output_type": "stream",
     "text": [
      "\n",
      " Bem vindo ao Picat + Jupyter\n"
     ]
    }
   ],
   "source": [
    "%%picat \n",
    "%%% SEMPRE A LINHA ACIMA\n",
    "main =>\n",
    "        printf(\"\\n Bem vindo ao Picat + Jupyter\")."
   ]
  },
  {
   "cell_type": "code",
   "execution_count": 4,
   "metadata": {},
   "outputs": [
    {
     "name": "stdout",
     "output_type": "stream",
     "text": [
      "SOMA: 3\n"
     ]
    }
   ],
   "source": [
    "%%picat \n",
    "%%% SEMPRE A LINHA ACIMA\n",
    "\n",
    "main => = (X,1), %% Prolog não aceitaria isto ....\n",
    "        %%X = 1,\n",
    "        Y = 2,\n",
    "        printf(\"SOMA: %w\", (X+Y))."
   ]
  },
  {
   "cell_type": "code",
   "execution_count": 5,
   "metadata": {},
   "outputs": [
    {
     "name": "stdout",
     "output_type": "stream",
     "text": [
      "\n",
      " Horário: 19:27:10  \n",
      "    Data: 27/08/2024\n",
      " ===================\n"
     ]
    }
   ],
   "source": [
    "%%picat \n",
    "import util.\n",
    "import datetime.\n",
    "main =>\n",
    "   print_current_datetime().\n",
    "\n",
    "%%% printing TIME and DATE executions\n",
    "print_current_datetime =>\n",
    "    DT = current_datetime(),  %%% uma função\n",
    "    %% objeto de retorno é um FUNCTOR .... começa com '$'. \n",
    "    %% isto para diferenciar chamadas de FUNCOES .... \n",
    "    $date_time(Year, Month, Day, Hour, Minute, Second) = DT,\n",
    "    printf(\"\\n Horário: %02d:%02d:%02d  \n",
    "    Data: %02d/%02d/%d\", Hour, Minute, Second, Day, (Month+1), (Year+1900)),\n",
    "    printf(\"\\n ===================\").\n",
    "\n"
   ]
  },
  {
   "cell_type": "code",
   "execution_count": null,
   "metadata": {},
   "outputs": [],
   "source": []
  }
 ],
 "metadata": {
  "kernelspec": {
   "display_name": "Python 3 (ipykernel)",
   "language": "python",
   "name": "python3"
  },
  "language_info": {
   "codemirror_mode": {
    "name": "ipython",
    "version": 3
   },
   "file_extension": ".py",
   "mimetype": "text/x-python",
   "name": "python",
   "nbconvert_exporter": "python",
   "pygments_lexer": "ipython3",
   "version": "3.11.2"
  }
 },
 "nbformat": 4,
 "nbformat_minor": 4
}
