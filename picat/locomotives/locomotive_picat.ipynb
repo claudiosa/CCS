{
 "cells": [
  {
   "cell_type": "code",
   "execution_count": 1,
   "id": "b3c1e6a4-8604-4753-b8d1-2369dcc8ca05",
   "metadata": {},
   "outputs": [
    {
     "data": {
      "application/javascript": "\"use strict\";\n\nCodeMirror.defineMode(\"text/picat\", function(config) {\n\n  var isOperatorChar = /[+\\-*=\\@\\&|\\:#<>\\/]/;\n\n  var keywords = {\"else\":true,\n  \"end\":true,\n  \"foreach\":true,\n  \"if\":true,\n  \"in\":true,\n  \"then\":true\n  }\n\n  var specials = {\"acyclic_term\":true,\n  \"and_to_list\":true,\n  \"append\":true,\n  \"apply\":true,\n  \"arity\":true,\n  \"array\":true,\n  \"atom\":true,\n  \"atom_chars\":true,\n  \"atom_codes\":true,\n  \"atomic\":true,\n  \"attr_var\":true,\n  \"between\":true,\n  \"bind_vars\":true,\n  \"call\":true,\n  \"call_cleanup\":true,\n  \"catch\":true,\n  \"char\":true,\n  \"chr\":true,\n  \"clear\":true,\n  \"compare_terms\":true,\n  \"compound\":true,\n  \"copy_term\":true,\n  \"count_all\":true,\n  \"delete\":true,\n  \"delete_all\":true,\n  \"different_term\":true,\n  \"digit\":true,\n  \"div\":true,\n  \"dvar\":true,\n  \"dvar_or_int\":true,\n//   \"end\":true,\n  \"fail\":true,\n  \"false\":true,\n  \"find_all\":true,\n  \"findall\":true,\n  \"first\":true,\n  \"flatten\":true,\n  \"float\":true,\n  \"fold\":true,\n//   \"foreach\":true,\n  \"freeze\":true,\n  \"get\":true,\n  \"get_attr\":true,\n  \"get_global_map\":true,\n  \"get_heap_map\":true,\n  \"get_table_map\":true,\n  \"ground\":true,\n  \"handle_exception\":true,\n  \"has_key\":true,\n  \"hash_code\":true,\n  \"head\":true,\n  \"heap_is_empty\":true,\n  \"heap_pop\":true,\n  \"heap_push\":true,\n  \"heap_size\":true,\n  \"heap_to_list\":true,\n  \"heap_top\":true,\n  \"import\":true,    \n//   \"in\":true,\n  \"insert\":true,\n  \"insert_all\":true,\n  \"insert_ordered\":true,\n  \"insert_ordered_down\":true,\n  \"int\":true,\n  \"integer\":true,\n  \"is\":true,\n  \"keys\":true,\n  \"last\":true,\n  \"len\":true,\n  \"length\":true,\n  \"list\":true,\n  \"list_to_and\":true,\n  \"lowercase\":true,\n  \"map\":true,\n  \"map_to_list\":true,\n  \"max\":true,\n  \"maxint_small\":true,\n  \"maxof\":true,\n  \"maxof_inc\":true,\n  \"membchk\":true,\n  \"member\":true,\n  \"min\":true,\n  \"minint_small\":true,\n  \"minof\":true,\n  \"minof_inc\":true,\n  \"mod\":true,\n  \"name\":true,\n  \"new_array\":true,\n  \"new_list\":true,\n  \"new_map\":true,\n  \"new_max_heap\":true,\n  \"new_min_heap\":true,\n  \"new_set\":true,\n  \"new_struct\":true,\n  \"nonvar\":true,\n  \"not\":true,\n  \"notin\":true,\n  \"nth\":true,\n  \"number\":true,\n  \"number_char\":true,\n  \"number_codes\":true,\n  \"number_vars\":true,\n  \"once\":true,\n  \"ord\":true,\n  \"parse_radix_string\":true,\n  \"parse_term\":true,\n  \"post_event\":true,\n  \"post_event_any\":true,\n  \"post_event_bound\":true,\n  \"post_event_dom\":true,\n  \"post_event_ins\":true,\n  \"print\":true,\n  \"println\":true,\n  \"prod\":true,\n  \"put\":true,\n  \"put_attr\":true,\n  \"real\":true,\n  \"reduce\":true,\n  \"rem\":true,\n  \"remove_dumps\":true,\n  \"repeat\":true,\n  \"reverse\":true,\n  \"second\":true,\n  \"select\":true,\n  \"size\":true,\n  \"slice\":true,\n  \"sort\":true,\n  \"sort_down\":true,\n  \"sort_down_remove_dups\":true,\n  \"sort_remove_dups\":true,\n  \"sorted\":true,\n  \"sorted_down\":true,\n  \"string\":true,\n  \"struct\":true,\n  \"subsumes\":true,\n  \"sum\":true,\n  \"tail\":true,\n  \"throw\":true,\n  \"to_array\":true,\n  \"to_atom\":true,\n  \"to_binary_string\":true,\n  \"to_code\":true,\n  \"to_fstring\":true,\n  \"to_hex_string\":true,\n  \"to_int\":true,\n  \"to_integer\":true,\n  \"to_list\":true,\n  \"to_lowercase\":true,\n  \"to_number\":true,\n  \"to_oct_string\":true,\n  \"to_radix_string\":true,\n  \"to_real\":true,\n  \"to_string\":true,\n  \"to_uppercase\":true,\n  \"true\":true,\n  \"uppercase\":true,\n  \"values\":true,\n  \"var\":true,\n  \"variant\":true,\n  \"vars\":true,\n  \"zip\":true,\n\n  \"abs\":true,\n  \"acos\":true,\n  \"acosh\":true,\n  \"acot\":true,\n  \"acoth\":true,\n  \"acsc\":true,\n  \"acsch\":true,\n  \"asec\":true,\n  \"asech\":true,\n  \"asin\":true,\n  \"asinh\":true,\n  \"atan\":true,\n  \"atan2\":true,\n  \"atanh\":true,\n  \"ceiling\":true,\n  \"cos\":true,\n  \"cosh\":true,\n  \"cot\":true,\n  \"coth\":true,\n  \"csc\":true,\n  \"csch\":true,\n  \"e\":true,\n  \"even\":true,\n  \"exp\":true,\n  \"floor\":true,\n  \"frand\":true,\n  \"gcd\":true,\n  \"log\":true,\n  \"log10\":true,\n  \"log2\":true,\n  \"modf\":true,\n  \"odd\":true,\n  \"pi\":true,\n  \"pow\":true,\n  \"pow_mod\":true,\n  \"prime\":true,\n  \"primes\":true,\n  \"max\":true,\n  \"random\":true,\n  \"random2\":true,\n  \"round\":true,\n  \"sec\":true,\n  \"sech\":true,\n  \"sign\":true,\n  \"sin\":true,\n  \"sinh\":true,\n  \"sqrt\":true,\n  \"tan\":true,\n  \"tanh\":true,\n  \"to_degrees\":true,\n  \"to_radians\":true,\n  \"truncate\":true,\n    \n \n  \"xor\":true};\n\n  var punc = \":;,.(){}[]\";\n\n  function tokenBase(stream, state) {\n    var ch = stream.next();\n    if (ch == '\"') {\n      state.tokenize.push(tokenString);\n      return tokenString(stream, state);\n    }\n    if (/[\\d\\.]/.test(ch)) {\n      if (ch == \".\") {\n        stream.match(/^[0-9]+([eE][\\-+]?[0-9]+)?/);\n      } else if (ch == \"0\") {\n        stream.match(/^[xX][0-9a-fA-F]+/) || stream.match(/^0[0-7]+/);\n      } else {\n        stream.match(/^[0-9]*\\.?[0-9]*([eE][\\-+]?[0-9]+)?/);\n      }\n      return \"number\";\n    }\n    if (ch == \"/\") {\n      if (stream.eat(\"*\")) {\n        state.tokenize.push(tokenComment);\n        return tokenComment(stream, state);\n      }\n    }\n    if (ch == \"%\") {\n      stream.skipToEnd();\n      return \"comment\";\n    }\n    if (isOperatorChar.test(ch)) {\n      stream.eatWhile(isOperatorChar);\n      return \"operator\";\n    }\n    if (punc.indexOf(ch) > -1) {\n      return \"punctuation\";\n    }\n    stream.eatWhile(/[\\w\\$_\\xa1-\\uffff]/);\n    var cur = stream.current();\n    if (keywords.propertyIsEnumerable(cur)) {\n      return \"keyword\";\n    }\n    return \"variable\";\n  }\n\n  function tokenComment(stream, state) {\n    var maybeEnd = false, ch;\n    while (ch = stream.next()) {\n      if (ch == \"/\" && maybeEnd) {\n        state.tokenize.pop();\n        break;\n      }\n      maybeEnd = (ch == \"*\");\n    }\n    return \"comment\";\n  }\n\n  function tokenUntilClosingParen() {\n    var depth = 0;\n    return function(stream, state, prev) {\n      var inner = tokenBase(stream, state, prev);\n      console.log(\"untilClosing\",inner,stream.current());\n      if (inner == \"punctuation\") {\n        if (stream.current() == \"(\") {\n          ++depth;\n        } else if (stream.current() == \")\") {\n          if (depth == 0) {\n            stream.backUp(1)\n            state.tokenize.pop()\n            return state.tokenize[state.tokenize.length - 1](stream, state)\n          } else {\n            --depth;\n          }\n        }\n      }\n      return inner;\n    }\n  }\n\n  function tokenString(stream, state) {\n    var escaped = false, next, end = false;\n    while ((next = stream.next()) != null) {\n      if (next=='(' && escaped) {\n        state.tokenize.push(tokenUntilClosingParen());\n        return \"string\";\n      }\n      if (next == '\"' && !escaped) {end = true; break;}\n      escaped = !escaped && next == \"\\\\\";\n    }\n    if (end || !escaped)\n      state.tokenize.pop();\n    return \"string\";\n  }\n\n  return {\n    startState: function(basecolumn) {\n      return {\n        tokenize: []\n      };\n    },\n\n    token: function(stream, state) {\n      if (stream.eatSpace()) return null;\n      var style = (state.tokenize[state.tokenize.length - 1] || tokenBase)(stream, state);\n      console.log(\"token\",style);\n      return style;\n    },\n\n    blockCommentStart: \"/*\",\n    blockCommentEnd: \"*/\",\n    lineComment: \"%\"\n  };\n});\n\nCodeMirror.defineMIME(\"text/picat\", \"text/picat\");\n\nJupyter.CodeCell.options_default.highlight_modes['magic_text/picat'] = {'reg':[/^%%picat/]} ;\n\nJupyter.notebook.get_cells().map(function(cell){\n  if (cell.cell_type == 'code'){ cell.auto_highlight(); }\n}) ;",
      "text/plain": [
       "<IPython.core.display.Javascript object>"
      ]
     },
     "metadata": {},
     "output_type": "display_data"
    },
    {
     "name": "stdout",
     "output_type": "stream",
     "text": [
      "Picat version 3.6\n"
     ]
    }
   ],
   "source": [
    "%load_ext ipicat"
   ]
  },
  {
   "cell_type": "code",
   "execution_count": 2,
   "id": "584ea44a-6fcd-4c14-9390-c491a245af4a",
   "metadata": {},
   "outputs": [
    {
     "name": "stdout",
     "output_type": "stream",
     "text": [
      "[250-1,250-2,246-1,246-2,203-1,203-2,203-3,203-4]\n"
     ]
    }
   ],
   "source": [
    "%%picat\n",
    "import input_sample.\n",
    "import util.\n",
    "\n",
    "main ?=>\n",
    "    locomotives(Loc),\n",
    "    init_location(Init_Location), \n",
    "    init_time(Init_Time), \n",
    "    printf(\"%w\", Loc)."
   ]
  },
  {
   "cell_type": "code",
   "execution_count": 3,
   "id": "e1b6a5ad-cbab-4dce-83fa-ed6133a68622",
   "metadata": {},
   "outputs": [
    {
     "name": "stdout",
     "output_type": "stream",
     "text": [
      "0[0,0,50400,50400,50400,50400,50400,50400]0\n",
      " (b0001,dro,54000,bno,68400),\n",
      " (b0002,bno,108060,dro,133200),\n",
      " (b0003,dro,226800,bno,241200),\n",
      " (b0004,bno,280860,dro,306000),\n",
      " (b0005,dro,399600,bno,414000),\n",
      " (b0006,bno,453600,dro,478800),\n",
      " (b0007,dnm,205200,wmeX,244800),\n",
      " (b0008,wmeX,291600,dnm,331200),\n",
      " (b0009,dnm,378000,wmeX,417600),\n",
      " (b0010,wmeX,464400,dnm,504000),\n",
      " (b0011,dnm,550800,wmeX,590400),\n",
      " (b0012,wmeX,637200,dnm,676800),\n",
      " (b0013,bwur,75600,lmof,79200),\n",
      " (b0014,lmof,100800,bwur,104400),\n",
      " (b0015,bwur,248400,lmof,252000),\n",
      " (b0016,lmof,273600,bwur,277200),\n",
      " (b0017,bwur,421200,lmof,424800),\n",
      " (b0018,lmof,446400,bwur,450000),\n",
      " (b0019,bwur,345600,egbk,381600),\n",
      " (b0020,egbk,439200,bwur,475200),\n",
      " (b5001,dro,0,dro,28800),\n",
      " (b5002,bno,72000,bno,108000),\n",
      " (b5003,dro,165600,dro,194400),\n",
      " (b5004,bno,241260,bno,280800),\n",
      " (b5005,dro,345600,dro,363600),\n",
      " (b5006,bno,363601,bno,374400),\n"
     ]
    }
   ],
   "source": [
    "%%picat\n",
    "import input_sample.\n",
    "import util.\n",
    "\n",
    "main ?=>\n",
    "    init_time(Init), \n",
    "    printf(\"%w\",men_2(Init)),\n",
    "    M = men_2(Init),\n",
    "    printf(\"%w\",sub_M_em_L(M,Init) ),\n",
    "    services(S),\n",
    "    M2 = menor(S),\n",
    "    printf(\"%w\", M2),\n",
    "    %printf(\"\\n %w\", S),\n",
    "    %printf(\"\\n %w\", subtract_values(S, M2)). \n",
    "    L2 = subtract_values(S, M2),\n",
    "    print_list(L2).\n",
    "\n",
    "print_list([]) =>\n",
    "    true.\n",
    "print_list([X | Xs]) =>\n",
    "    printf(\"\\n (%w),\", X),\n",
    "    print_list(Xs).\n",
    "\n",
    "subtract_values(List, Value) = R =>\n",
    "    ResultList = [],\n",
    "    foreach(Tuple in List)\n",
    "        (X1,X2,X3,X4,X5) = Tuple,\n",
    "        NewTuple = (X1,X2, X3 - Value, X4, X5 - Value),\n",
    "        ResultList := ResultList ++ [NewTuple]\n",
    "    end,\n",
    "    R = ResultList.\n",
    "\n",
    "%sub_M_em_T(M,L) = [ Y : (X1,X2,X3,X4,X5) in L, Y3 is (X3-M), Y5 is (X5-M),  Y is (X1,X2,Y3,X4,Y5) ]. \n",
    "\n",
    "sub_M_em_L(M,L) = [ Y : X in L, Y is (X-M)]. \n",
    "\n",
    "menor([]) = R, len([]) == 0 => R = 0.\n",
    "menor([A]) = R, len([A]) == 1 => R = n_tupla(A).              \n",
    "menor([A, B | L]) = R, n_tupla(A) < n_tupla(B) => R = menor([A | L]).    \n",
    "menor([A, B | L]) = R, n_tupla(B) =< n_tupla(A) => R = menor([B | L]).\n",
    "\n",
    "n_tupla((_, _, X, _, _)) = X.\n",
    "\n",
    "men_2([]) = R, len([]) == 0 => R = 0.\n",
    "men_2([A]) = R, len([A]) == 1 => R = A.              \n",
    "men_2([A, B | L]) = R, (A < B) => R = men_2([A | L]).    \n",
    "men_2([A, B | L]) = R, (B =< A) => R = men_2([B | L]).\n",
    "\n",
    "\n"
   ]
  },
  {
   "cell_type": "code",
   "execution_count": 4,
   "id": "4124a9f9-b219-4374-a665-afec2a7a62bf",
   "metadata": {},
   "outputs": [
    {
     "name": "stdout",
     "output_type": "stream",
     "text": [
      "[(b5004,bno,1672632861,bno,1672672401),(b5005,dro,1672737201,dro,1672755201),(b5006,bno,1672755202,bno,1672766001)]\n",
      "\n"
     ]
    }
   ],
   "source": [
    "%%picat\n",
    "subtract_values(List, Value) = R =>\n",
    "    ResultList = [],\n",
    "    foreach(Tuple in List)\n",
    "        (X1,X2,X3,X4,X5) = Tuple,\n",
    "        NewTuple = (X1,X2, X3 - Value, X4, X5 - Value),\n",
    "        ResultList := ResultList ++ [NewTuple]\n",
    "    end,\n",
    "    R = ResultList.\n",
    "\n",
    "main =>\n",
    "    L = [('b5004', 'bno', 1672732860, 'bno', 1672772400),\n",
    "         ('b5005', 'dro', 1672837200, 'dro', 1672855200),\n",
    "         ('b5006', 'bno', 1672855201, 'bno', 1672866000)],\n",
    "    Value = 99999,\n",
    "    Result = subtract_values(L, Value),\n",
    "    writeln(Result).\n",
    "\n"
   ]
  },
  {
   "cell_type": "code",
   "execution_count": 5,
   "id": "14ad5e36-7039-4b27-85c1-6e97977f062d",
   "metadata": {},
   "outputs": [
    {
     "name": "stdout",
     "output_type": "stream",
     "text": [
      "\n",
      " [(b0001,dro,54000,bno,68400),(b0002,bno,108060,dro,133200),(b0003,dro,226800,bno,241200),(b0004,bno,280860,dro,306000),(b0005,dro,399600,bno,414000),(b0006,bno,453600,dro,478800),(b0007,dnm,205200,wmeX,244800),(b0008,wmeX,291600,dnm,331200),(b0009,dnm,378000,wmeX,417600),(b0010,wmeX,464400,dnm,504000),(b0011,dnm,550800,wmeX,590400),(b0012,wmeX,637200,dnm,676800),(b0013,bwur,75600,lmof,79200),(b0014,lmof,100800,bwur,104400),(b0015,bwur,248400,lmof,252000),(b0016,lmof,273600,bwur,277200),(b0017,bwur,421200,lmof,424800),(b0018,lmof,446400,bwur,450000),(b0019,bwur,345600,egbk,381600),(b0020,egbk,439200,bwur,475200),(b5001,dro,0,dro,28800),(b5002,bno,72000,bno,108000),(b5003,dro,165600,dro,194400),(b5004,bno,241260,bno,280800),(b5005,dro,345600,dro,363600),(b5006,bno,363601,bno,374400)] \n",
      "\n",
      " SORTED OK\n",
      ": [(b5001,dro,0,dro,28800),(b0001,dro,54000,bno,68400),(b5002,bno,72000,bno,108000),(b0013,bwur,75600,lmof,79200),(b0014,lmof,100800,bwur,104400),(b0002,bno,108060,dro,133200),(b5003,dro,165600,dro,194400),(b0007,dnm,205200,wmeX,244800),(b0003,dro,226800,bno,241200),(b5004,bno,241260,bno,280800),(b0015,bwur,248400,lmof,252000),(b0016,lmof,273600,bwur,277200),(b0004,bno,280860,dro,306000),(b0008,wmeX,291600,dnm,331200),(b5005,dro,345600,dro,363600),(b0019,bwur,345600,egbk,381600),(b5006,bno,363601,bno,374400),(b0009,dnm,378000,wmeX,417600),(b0005,dro,399600,bno,414000),(b0017,bwur,421200,lmof,424800),(b0020,egbk,439200,bwur,475200),(b0018,lmof,446400,bwur,450000),(b0006,bno,453600,dro,478800),(b0010,wmeX,464400,dnm,504000),(b0011,dnm,550800,wmeX,590400),(b0012,wmeX,637200,dnm,676800)]  \n",
      "\n",
      " (b5001,dro,0,dro,28800),\n",
      " (b0001,dro,54000,bno,68400),\n",
      " (b5002,bno,72000,bno,108000),\n",
      " (b0013,bwur,75600,lmof,79200),\n",
      " (b0014,lmof,100800,bwur,104400),\n",
      " (b0002,bno,108060,dro,133200),\n",
      " (b5003,dro,165600,dro,194400),\n",
      " (b0007,dnm,205200,wmeX,244800),\n",
      " (b0003,dro,226800,bno,241200),\n",
      " (b5004,bno,241260,bno,280800),\n",
      " (b0015,bwur,248400,lmof,252000),\n",
      " (b0016,lmof,273600,bwur,277200),\n",
      " (b0004,bno,280860,dro,306000),\n",
      " (b0008,wmeX,291600,dnm,331200),\n",
      " (b5005,dro,345600,dro,363600),\n",
      " (b0019,bwur,345600,egbk,381600),\n",
      " (b5006,bno,363601,bno,374400),\n",
      " (b0009,dnm,378000,wmeX,417600),\n",
      " (b0005,dro,399600,bno,414000),\n",
      " (b0017,bwur,421200,lmof,424800),\n",
      " (b0020,egbk,439200,bwur,475200),\n",
      " (b0018,lmof,446400,bwur,450000),\n",
      " (b0006,bno,453600,dro,478800),\n",
      " (b0010,wmeX,464400,dnm,504000),\n",
      " (b0011,dnm,550800,wmeX,590400),\n",
      " (b0012,wmeX,637200,dnm,676800),\n",
      " 26 26 26 \n",
      "\n"
     ]
    }
   ],
   "source": [
    "%%picat\n",
    "import input_sample.\n",
    "import util.\n",
    "main =>\n",
    "   \n",
    "   services(S),\n",
    "   printf(\"\\n %w \\n\", S),\n",
    "   my_sort(S,L1),\n",
    "   h_sort(S,L2), \n",
    "   L3 = sort_2(S),\n",
    "   %write(L1), nl,\n",
    "   printf(\"\\n SORTED OK\\n: %w  \\n\", L3), \n",
    "   print_list(L3), \n",
    "   printf(\"\\n %w %w %w \\n\", len(S), len(L1), len(L3)) .\n",
    "\n",
    "print_list([]) =>\n",
    "    true.\n",
    "print_list([ X | Xs]) =>\n",
    "    printf(\"\\n (%w),\", X),\n",
    "    %writeln(X),\n",
    "    print_list(Xs).\n",
    "\n",
    "%my_sort([], R) ?=> R  = [].\n",
    "%my_sort([A], [R]), len([A]) == 1  ?=>  R = A.\n",
    "my_sort([], A) ?=> A = [].\n",
    "my_sort([A], AL) ?=> AL = [A].\n",
    "\n",
    "my_sort([A,B|L], Menor_L1) ?=>\n",
    "   %[Menor|L1] = Menor_L1, % fixed by hakank\n",
    "    (_,_,Xa,_,_) = A,\n",
    "    (_,_,Xb,_,_) = B,\n",
    "    Xa @< Xb, % hakank: Using @< instead of <\n",
    "    Menor = A,\n",
    "    Menor_L1 = [Menor|L1],\n",
    "    my_sort([B|L], L1).\n",
    "\n",
    "my_sort([A,B|L], Menor_L1) =>\n",
    "    %[Menor|L1] = Menor_L1,  % fixed by hakank\n",
    "    (_,_,Xa,_,_) = A,\n",
    "    (_,_,Xb,_,_) = B,\n",
    "    Xa @>= Xb,\n",
    "    Menor = B,\n",
    "    Menor_L1 = [Menor|L1],\n",
    "    my_sort([A|L], L1).\n",
    "\n",
    "%%% by Hakan\n",
    "h_sort([], []).\n",
    "h_sort([A], [A]).\n",
    "h_sort([A,B|L], [Menor|L1]) :-\n",
    "    (_,_,Xa,_,_) = A,\n",
    "    (_,_,Xb,_,_) = B,\n",
    "    ( Xa @< Xb ->\n",
    "       Menor = A,\n",
    "       h_sort([B|L], L1)\n",
    "    ;\n",
    "      Menor = B,    \n",
    "      h_sort([A|L], L1)\n",
    "    ).\n",
    "\n",
    "\n",
    "n_3_tupla((_, _, X, _, _)) = X.\n",
    "\n",
    "menor([]) = R, len([]) == 0 => R = 0.\n",
    "menor([A]) = R, len([A]) == 1 => R = A.              \n",
    "menor([A, B | L]) = R, n_3_tupla(A) @< n_3_tupla(B) => R = menor([A | L]).    \n",
    "menor([A, B | L]) = R, n_3_tupla(B) @=< n_3_tupla(A) => R = menor([B | L]).\n",
    "\n",
    "sort_2([]) = R => R = [].\n",
    "sort_2([A]) = R => R = [A].\n",
    "sort_2(L) = R => \n",
    "    M = menor(L),\n",
    "    L_2 = delete(L, M),\n",
    "    R = [ M | sort_2(L_2) ].\n"
   ]
  },
  {
   "cell_type": "code",
   "execution_count": 6,
   "id": "8c870fd6-aea8-43f1-9bdc-5cc6e48a9085",
   "metadata": {},
   "outputs": [
    {
     "name": "stdout",
     "output_type": "stream",
     "text": [
      "\n",
      " x:b5001,dro,0,dro,2880  L:[(250-1,dro,0),(250-2,dro,0),(246-1,dnm,50400),(246-2,dnm,50400),(203-1,bwur,50400),(203-2,bwur,50400),(203-3,bwur,50400),(203-4,bwur,50400)]\n"
     ]
    }
   ],
   "source": [
    "%%picat\n",
    "import util.\n",
    "main ?=>\n",
    " L = [('250-1',dro,0),('250-2',dro,0),('246-1',dnm,50400),('246-2',dnm,50400),\n",
    " ('203-1',bwur,50400),('203-2',bwur,50400),('203-3',bwur,50400),\n",
    " ('203-4',bwur,50400)], \n",
    "  X= (b5001,dro,0,dro,2880),\n",
    "  printf(\"\\n x:%w  L:%w\", X, L),  \n",
    "  find_locomotives(X, L, L2),\n",
    "  print(L2). \n",
    "\n",
    "main => true.\n",
    "\n",
    "find_locomotives(_, L, R )?=>  len(L)==0 , R = [].\n",
    "\n",
    "find_locomotives( S, [ A | Loc], [B|L_Locomotives] ) ?=>\n",
    "            (Id_Serv, Start_P, Start_T, End_P, End_T) = S,\n",
    "            (Id_Loc, Position, Time) = A,\n",
    "            \n",
    "            printf(\"\\n A:%w  S:%w\", A, S), \n",
    "            Position == Start_P,\n",
    "            Time =< Start_T,\n",
    "            %B = (Id_Loc, End_P, End_T),\n",
    "            B = (Id_Loc, Position, Time), %%% selecionada\n",
    "            find_locomotives(S, Loc, L_Locomotives ).\n",
    "       \n",
    "\n",
    "find_locomotives(S, [A|Loc], L_Locomotives ) ?=>\n",
    "        (Id_Serv, Start_P, Start_T, End_P, End_T) = S,\n",
    "        (Id_Loc, Position, Time) = A,\n",
    "        (Position != Start_P ;\n",
    "        Time > Start_T),\n",
    "        find_locomotives(S, Loc, L_Locomotives ).  "
   ]
  },
  {
   "cell_type": "code",
   "execution_count": 14,
   "id": "b244bb32-7781-4dc3-840d-cf55c0adca8b",
   "metadata": {},
   "outputs": [
    {
     "name": "stdout",
     "output_type": "stream",
     "text": [
      "\n",
      " X:-550,dro  L:[(5,dro),(11,dro),(51,dro),(488,dro)] \n",
      " L2:[(5,dro),(11,dro),(51,dro),(488,dro)] \n",
      " L3:[(5,dro),(11,dro),(51,dro),(488,dro)]\n"
     ]
    }
   ],
   "source": [
    "%%picat\n",
    "import util.\n",
    "main ?=>\n",
    " L = [(5,dro), (11,dro), (51,dro), (488,dro)],\n",
    " X = (-550,dro),\n",
    " % printf(\"\\n X:%w  L:%w \\n L2:%w\", X, L, L2),\n",
    " L3 = find_2(X, L),\n",
    " find_N(X,L,L2),\n",
    " printf(\"\\n X:%w  L:%w \\n L2:%w \\n L3:%w\", X, L, L2, L3).  \n",
    "\n",
    "main => true.\n",
    "\n",
    "%%% FUNCTIONAL VIEW -- ANY BACKTRACKING IS ALLOWED\n",
    "find_2( _ , L ) = R,  len(L)==0 =>  R = [].\n",
    "find_2( S, Linp ) = R =>\n",
    "    Linp =  [ A | L],\n",
    "    (Num, Name) = S,\n",
    "    (Num_A, Name_A) = A,\n",
    "    %printf(\"\\n S:%w  A:%w\", S, A), \n",
    "    %% NO BACKTRACKING\n",
    "    if (Num <= Num_A &&  Name == Name_A) then\n",
    "    \tR = [ A | find_2(S, L) ]\n",
    "    else\n",
    "    \tR = find_2(S, L)\n",
    "    end.\n",
    "\n",
    "/*****************************/\n",
    "%%% LOGIC VIEW --  BACKTRACKING IS ALLOWED AND EXPLICITED\n",
    "find_N(_, L, R ) ?=>  len(L)==0 , R = [].\n",
    "find_N( S, Linp, Lout ) ?=>\n",
    "    Linp =  [ A | L1],\n",
    "    Lout = [ B | L2 ],\n",
    "    (Num, Name) = S,\n",
    "    (Num_A, Name_A) = A,\n",
    "     B = (Num_A, Name_A),\n",
    "    %printf(\"\\n A:%w  S:%w\", A, S), \n",
    "    Num <= Num_A,\n",
    "    Name == Name_A,\n",
    "    find_N(S, L1, L2 ).\n",
    "\n",
    "find_N( S, Linp, Lout ) =>\n",
    "    Linp =  [ A | L1],\n",
    "    Lout =  L2 ,\n",
    "    (Num, Name) = S,\n",
    "    (Num_A, Name_A) = A,\n",
    "     (Num > Num_A ;\n",
    "      Name != Name_A),\n",
    "     find_N(S, L1, L2 ).\n",
    "       "
   ]
  },
  {
   "cell_type": "code",
   "execution_count": 53,
   "id": "9d49996f-2ead-42bd-90b0-fdd5eec93b3d",
   "metadata": {},
   "outputs": [
    {
     "name": "stdout",
     "output_type": "stream",
     "text": [
      "l1 = [('295-950',hcn,21000)]\n",
      "l2 = [('295-950',hcn,21000)]\n"
     ]
    }
   ],
   "source": [
    "%%picat\n",
    "\n",
    "import input_test.\n",
    "\n",
    "main ?=>\n",
    "    services(Services), %% from Excell\n",
    "    locomotives(Locomotives),\n",
    "    locomotive_classes(Locomotive_Classes),\n",
    "    Class_of_Locomotive = 295,\n",
    "    S = (o008,hcn,399600,hcg,399900,mdiesel),\n",
    "    %S= (a001,hgrd,37740,hesh,62700,ldual),\n",
    "    find_locomotives(S, Locomotives, Class_of_Locomotive, Lout ),\n",
    "    writeln(l1 = Lout),\n",
    "    %S2 =  (a001,bwur,377400,hesh,627000,ldual),\n",
    "    S2 = (o008,hcn,99399600,hcg,99399900,mdiesel),\n",
    "    find_locomotives(S2, Locomotives, Class_of_Locomotive, Lout2 ),\n",
    "    write(l2 = Lout2). \n",
    "\n",
    "\n",
    "%%%OK ...\n",
    "find_locomotives(_, [], _, R ) ?=>  R = [].\n",
    "find_locomotives(S, Loc, Class_of_Locomotive, Lout ) ?=>\n",
    "    %printf(\"\\n S: %w \\t %w \", S , Linp),\t\n",
    "    Loc =  [ (Loc_ID, Loc_Class, Position, Time ) | L1],  \n",
    "    %%% available locomotives\n",
    "    % EXAMPLE: ('159-001', 159, 'hgrd', 37740),\n",
    "\n",
    "    (Id_Serv, Start_P, Start_T, End_P, End_T, _ ) = S,\n",
    "    %(Id_Loc, Position, Time) = A,\n",
    "    (   to_string(Position) == to_string(Start_P),        \n",
    "        Time =< Start_T,\n",
    "        to_string(Loc_Class) == to_string(Class_of_Locomotive)\n",
    "    ),\n",
    "\n",
    "    %B = (Id_Loc, End_P, End_T),\n",
    "    Lout = [ B | Rest ],\n",
    "    B = (Loc_ID, Position, Time), %%% selected\n",
    "    find_locomotives(S, L1,  Class_of_Locomotive, Rest ).\n",
    "\n",
    "%%% proceed in recursion\n",
    "find_locomotives(S, Loc, Class_of_Locomotive, Lout ) =>\n",
    "    Loc =  [ (Loc_ID, Loc_Class, Position, Time ) | L1],  %%% available locomotives\n",
    "    \n",
    "    S = (Id_Serv, Start_P, Start_T, End_P, End_T, _ ) ,\n",
    "    %A = (Id_Loc, Position, Time),\n",
    "    (   to_string(Position) != to_string(Start_P) ;\n",
    "        Time > Start_T;\n",
    "        to_string(Loc_Class) != to_string(Class_of_Locomotive) \n",
    "    ), \n",
    "    %%% if the locomotive class is not of the class that accepts the service\n",
    "    %% the service has a class ... this class is attended by a class of locomotives\n",
    "    %% and the candidate locomotive must be in this class!\n",
    "\n",
    "    find_locomotives(S, L1, Class_of_Locomotive, Lout ).   \n",
    "   "
   ]
  },
  {
   "cell_type": "code",
   "execution_count": 25,
   "id": "3d137981",
   "metadata": {},
   "outputs": [
    {
     "name": "stdout",
     "output_type": "stream",
     "text": [
      "cl = '159'\n",
      "cl = '295'\n",
      "\n"
     ]
    }
   ],
   "source": [
    "%%picat\n",
    "\n",
    "import input_test.\n",
    "\n",
    "main ?=>\n",
    "    /* LER AS PLANILHAS */\n",
    "    services(Services), %% from Excell\n",
    "    locomotives(Locomotives),\n",
    "    locomotive_classes(Locomotive_Classes),\n",
    "    \n",
    "    %S= (a001,hgrd,37740,hesh,62700,ldual),\n",
    "    get_class_from_locomotive(ldual, Locomotive_Classes, Class1),\n",
    "    writeln(cl = Class1),\n",
    "    get_class_from_locomotive(mdiesel, Locomotive_Classes, Class2),\n",
    "    writeln(cl = Class).    \n",
    "\n",
    "    \n",
    "get_class_from_locomotive(Serv_Class, Loc_Classes, Class) ?=>\n",
    "    Loc_Classes == [],\n",
    "    Class = '99999',\n",
    "    printf(\"\\n ===> A locomotiva para esta classe não foi encontrada!!!\\n\").\n",
    "\n",
    "get_class_from_locomotive(Serv_Class, Loc_Classes, Class) ?=>\n",
    "    Loc_Classes = [(Loc, Loc_Class, _, _) | L],\n",
    "    Loc_Class == Serv_Class,\n",
    "    Class = Loc.\n",
    "\n",
    "get_class_from_locomotive(Serv_Class, Loc_Classes, Class) ?=>\n",
    "    Loc_Classes = [(Loc, Loc_Class, _, _) | L],\n",
    "    Loc_Class != Serv_Class,\n",
    "    get_class_from_locomotive(Serv_Class, L, Class).\n",
    "\n"
   ]
  },
  {
   "cell_type": "code",
   "execution_count": 41,
   "id": "7ab1b53b",
   "metadata": {},
   "outputs": [
    {
     "name": "stdout",
     "output_type": "stream",
     "text": [
      "m = [('159-001',159,hgrd,37740),('159-002',159,bwur,68400),('159-003',159,bwur,60600),('159-004',159,bhc,139200),('159-005',159,hbsr,53400),('159-006',159,hcn,56100),('159-007',159,bwur,41700),('159-009',159,bwur,147900),('159-010',159,bwur,67200),('159-011',159,lqb,54600),('159-219',159,bwur,126600),('159-223',159,hmg,0),('246-001',246,lbkn,187800),('295-950',295,hcn,21000),('203-144',203,bwur,299400),('203-616',203,bwur,88800)]\n",
      "\n"
     ]
    }
   ],
   "source": [
    "\n",
    "%%picat\n",
    "\n",
    "import input_test.\n",
    "\n",
    "main ?=>\n",
    "    /* LER AS PLANILHAS */\n",
    "    services(Services), %% from Excell\n",
    "    locomotives(Locomotives),\n",
    "    locomotive_classes(Locomotive_Classes),\n",
    "    \n",
    "    %S= (a001,hgrd,37740,hesh,62700,ldual),\n",
    "    X = 159-001,\n",
    "    M = update_position(('159-001',cccchesh,62700), Locomotives),\n",
    "    writeln(m=M).\n",
    "\n",
    "\n",
    "update_position((A_Loc, E_Next, T_Next), [] ) = R => R = [].\n",
    "%%% achou a locomotiva então atualize       \n",
    "update_position((A_Loc, E_Next, T_Next), [(Loc_ID, Class, Where_is, When) | Rest]) = New_Loc_Place\n",
    "        , (to_string(A_Loc) == to_string(Loc_ID)) =>\n",
    "        New_Loc_Place = [(Loc_ID, Class,  E_Next, T_Next) | Rest].\n",
    "%% pega a proxima da lista de Locomotives\n",
    "update_position((A_Loc, E_Next, T_Next), [(Loc_ID,  Class, Where_is, When) |Rest]) = New_Loc_Place\n",
    "    , to_string(A_Loc) != to_string(Loc_ID) => \n",
    "    New_Loc_Place = [(Loc_ID,  Class, Where_is, When)  | update_position((A_Loc, E_Next, T_Next), Rest) ].\n",
    "    %%% avança na lista    \n",
    "\n",
    "\n",
    "\n",
    "% S1 = '159-001',  Str= to_string(S1), split(Str, \"-\")= [P1,P2], ST=P1++P2, ST == '159001'.\n",
    "\n",
    "\n"
   ]
  },
  {
   "cell_type": "code",
   "execution_count": 39,
   "id": "452ef8a7",
   "metadata": {},
   "outputs": [
    {
     "name": "stdout",
     "output_type": "stream",
     "text": [
      "Equal\n",
      "\n"
     ]
    }
   ],
   "source": [
    "%%picat\n",
    "main => \n",
    "    % Define the inputs\n",
    "    X = ab23,\n",
    "    Y = 'ab23',\n",
    "\n",
    "    % Convert both to strings for comparison\n",
    "    %to_string(X, StrX),\n",
    "    %to_string(Y, StrY),\n",
    "    StrX = to_string(X),\n",
    "    StrY  = to_string(Y),\n",
    "\n",
    "    % Perform the comparison\n",
    "    if (StrX == StrY) then\n",
    "        println(\"Equal\")\n",
    "    else\n",
    "        println(\"Not Equal\")\n",
    "    end."
   ]
  },
  {
   "cell_type": "code",
   "execution_count": 38,
   "id": "fdf21a29",
   "metadata": {},
   "outputs": [
    {
     "name": "stdout",
     "output_type": "stream",
     "text": [
      "*** error(syntax_error,picat)\n"
     ]
    }
   ],
   "source": [
    "%%picat\n",
    "main =>\n",
    "    % Test cases\n",
    " \n",
    "printf(\"\\n Case 1  %w\",     compare_values(ab-23, 'ab-23')),\n",
    "printf(\"\\n Case 2  %w\",    compare_values(159-001, '159-001')),\n",
    "printf(\"\\n Case 3  %w\",    compare_values(abc-def, 'abc-def')).\n",
    "\n",
    "compare_values(X, Y) = R =>\n",
    "    % Convert both to strings for comparison\n",
    "    StrX = to_string(X),\n",
    "    StrY = to_string(Y),\n",
    "\n",
    "    % Perform the comparison\n",
    "    if (StrX == StrY) then\n",
    "       R = \"Equal \"\n",
    "    else\n",
    "       R = \"Not Equal \"\n",
    "    end."
   ]
  },
  {
   "cell_type": "code",
   "execution_count": 43,
   "id": "badc8fc4",
   "metadata": {},
   "outputs": [
    {
     "name": "stdout",
     "output_type": "stream",
     "text": [
      "*** error(syntax_error,picat)\n"
     ]
    }
   ],
   "source": [
    "%%picat\n",
    "\n",
    "main =>\n",
    "    % Casos de teste\n",
    "    compare_values(159-001, '159-001'),\n",
    "    compare_values(12-345, '12-345'),\n",
    "    compare_values(12-45.67, '12-45.67'),\n",
    "    compare_values('12-45.67', '12-45.67'),\n",
    "    compare_values('abc-def', abc-def).\n",
    "\n",
    "compare_values(X, Y) =>\n",
    "    % Converter ambos os valores para strings para comparação\n",
    "    StrX = value_to_string(X),\n",
    "    StrY = value_to_string(Y),\n",
    "\n",
    "    % Realizar a comparação\n",
    "    if (StrX == StrY) then\n",
    "        printf(\"\\n Equal: %w == %w\", StrX, StrY)\n",
    "    else\n",
    "        printf(\"\\n NOT Equal: %w =!= %w\", StrX, StrY)\n",
    "    end.\n",
    "\n",
    "value_to_string(Value) = Str =>\n",
    "    % Verifica se o valor é um número ou átomo e converte para string\n",
    "    (integer(Value) -> number_string(Value, Str);\n",
    "     float(Value) -> number_string(Value, Str);\n",
    "     atom(Value) -> atom_string(Value, Str);\n",
    "     Str = Value)."
   ]
  },
  {
   "cell_type": "code",
   "execution_count": 72,
   "id": "f73d3f2c",
   "metadata": {},
   "outputs": [
    {
     "name": "stdout",
     "output_type": "stream",
     "text": [
      "*** error(failed,main/0)\n"
     ]
    }
   ],
   "source": [
    "\n",
    "%%picat\n",
    "\n",
    "import input_test.\n",
    "\n",
    "main ?=>\n",
    "    /* LER AS PLANILHAS */\n",
    "    %services(Services), %% from Excell\n",
    "    %locomotives(Locomotives),\n",
    "    %locomotive_classes(Locomotive_Classes),\n",
    "    service_class_equivalence(Serv_EQUIV),\n",
    "\n",
    "    replace_service_class('sdiesel', Serv_EQUIV, X, Y ),\n",
    "    printf(\"\\n X: %w \\tY: %w\", X, Y),\n",
    "    replace_service_class('xmeloco', Serv_EQUIV, X1, Y1 ),\n",
    "    printf(\"\\n X: %w \\tY: %w\", X1, Y1) .\n",
    "\n",
    "\n",
    "replace_service_class(_, [], _, _) => \n",
    "    printf(\"\\nNO SERVICE CLASS can be replaced\\n\").\n",
    "\n",
    "replace_service_class(Serv_Class, [(Current, Substitute, Penality) | _], New_Serv_Class, Penality) ?=>\n",
    "    Serv_Class == Current,\n",
    "    New_Serv_Class = Substitute.\n",
    "\n",
    "replace_service_class(Serv_Class, [(Current, Substitute, Penality) | Rest], New_Serv_Class, Penality) =>\n",
    "    Serv_Class != Current,\n",
    "    replace_service_class(Serv_Class, Rest, New_Serv_Class, Penality).\n",
    "\n",
    "\n",
    "\n",
    "replace_service_class(_, [], _, _) => \n",
    "    printf(\"\\nNO SERVICE CLASS can be replaced\\n\").\n",
    "\n",
    "replace_service_class(Serv_Class, [(Current, Substitute, Penality) | _], New_Serv_Class, Penality) ?=>\n",
    "    Serv_Class == Current,\n",
    "    New_Serv_Class = Substitute.\n",
    "\n",
    "replace_service_class(Serv_Class, [(Current, Substitute, Penality) | Rest], New_Serv_Class, Penality) =>\n",
    "    Serv_Class != Current,\n",
    "    replace_service_class(Serv_Class, Rest, New_Serv_Class, Penality).\n"
   ]
  },
  {
   "cell_type": "code",
   "execution_count": null,
   "id": "f9053c03",
   "metadata": {},
   "outputs": [],
   "source": []
  }
 ],
 "metadata": {
  "kernelspec": {
   "display_name": "Python 3 (ipykernel)",
   "language": "python",
   "name": "python3"
  },
  "language_info": {
   "codemirror_mode": {
    "name": "ipython",
    "version": 3
   },
   "file_extension": ".py",
   "mimetype": "text/x-python",
   "name": "python",
   "nbconvert_exporter": "python",
   "pygments_lexer": "ipython3",
   "version": "3.11.2"
  }
 },
 "nbformat": 4,
 "nbformat_minor": 5
}
